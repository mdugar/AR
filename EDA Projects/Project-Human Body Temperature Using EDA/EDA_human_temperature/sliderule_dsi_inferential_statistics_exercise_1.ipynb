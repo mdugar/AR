{
 "cells": [
  {
   "cell_type": "markdown",
   "metadata": {},
   "source": [
    "# What is the True Normal Human Body Temperature? \n",
    "\n",
    "#### Background\n",
    "\n",
    "The mean normal body temperature was held to be 37$^{\\circ}$C or 98.6$^{\\circ}$F for more than 120 years since it was first conceptualized and reported by Carl Wunderlich in a famous 1868 book. But, is this value statistically correct?"
   ]
  },
  {
   "cell_type": "markdown",
   "metadata": {},
   "source": [
    "<h3>Exercises</h3>\n",
    "\n",
    "<p>In this exercise, you will analyze a dataset of human body temperatures and employ the concepts of hypothesis testing, confidence intervals, and statistical significance.</p>\n",
    "\n",
    "<p>Answer the following questions <b>in this notebook below and submit to your Github account</b>.</p> \n",
    "\n",
    "<ol>\n",
    "<li>  Is the distribution of body temperatures normal? \n",
    "    <ul>\n",
    "    <li> Although this is not a requirement for the Central Limit Theorem to hold (read the introduction on Wikipedia's page about the CLT carefully: https://en.wikipedia.org/wiki/Central_limit_theorem), it gives us some peace of mind that the population may also be normally distributed if we assume that this sample is representative of the population.\n",
    "    <li> Think about the way you're going to check for the normality of the distribution. Graphical methods are usually used first, but there are also other ways: https://en.wikipedia.org/wiki/Normality_test\n",
    "    </ul>\n",
    "<li>  Is the sample size large? Are the observations independent?\n",
    "    <ul>\n",
    "    <li> Remember that this is a condition for the Central Limit Theorem, and hence the statistical tests we are using, to apply.\n",
    "    </ul>\n",
    "<li>  Is the true population mean really 98.6 degrees F?\n",
    "    <ul>\n",
    "    <li> First, try a bootstrap hypothesis test.\n",
    "    <li> Now, let's try frequentist statistical testing. Would you use a one-sample or two-sample test? Why?\n",
    "    <li> In this situation, is it appropriate to use the $t$ or $z$ statistic? \n",
    "    <li> Now try using the other test. How is the result be different? Why?\n",
    "    </ul>\n",
    "<li>  Draw a small sample of size 10 from the data and repeat both frequentist tests. \n",
    "    <ul>\n",
    "    <li> Which one is the correct one to use? \n",
    "    <li> What do you notice? What does this tell you about the difference in application of the $t$ and $z$ statistic?\n",
    "    </ul>\n",
    "<li>  At what temperature should we consider someone's temperature to be \"abnormal\"?\n",
    "    <ul>\n",
    "    <li> As in the previous example, try calculating everything using the boostrap approach, as well as the frequentist approach.\n",
    "    <li> Start by computing the margin of error and confidence interval. When calculating the confidence interval, keep in mind that you should use the appropriate formula for one draw, and not N draws.\n",
    "    </ul>\n",
    "<li>  Is there a significant difference between males and females in normal temperature?\n",
    "    <ul>\n",
    "    <li> What testing approach did you use and why?\n",
    "    <li> Write a story with your conclusion in the context of the original problem.\n",
    "    </ul>\n",
    "</ol>\n",
    "\n",
    "You can include written notes in notebook cells using Markdown: \n",
    "   - In the control panel at the top, choose Cell > Cell Type > Markdown\n",
    "   - Markdown syntax: http://nestacms.com/docs/creating-content/markdown-cheat-sheet\n",
    "\n",
    "#### Resources\n",
    "\n",
    "+ Information and data sources: http://www.amstat.org/publications/jse/datasets/normtemp.txt, http://www.amstat.org/publications/jse/jse_data_archive.htm\n",
    "+ Markdown syntax: http://nestacms.com/docs/creating-content/markdown-cheat-sheet\n",
    "\n",
    "****"
   ]
  },
  {
   "cell_type": "code",
   "execution_count": 172,
   "metadata": {
    "collapsed": false
   },
   "outputs": [],
   "source": [
    "import pandas as pd\n",
    "\n",
    "df = pd.read_csv('data/human_body_temperature.csv',header=None, names=['Body temperature (degrees Fahrenheit)', 'Gender (1 = male, 2 = female)', 'Heart rate (beats per minute)'])"
   ]
  },
  {
   "cell_type": "code",
   "execution_count": 173,
   "metadata": {
    "collapsed": false
   },
   "outputs": [
    {
     "data": {
      "text/html": [
       "<div>\n",
       "<table border=\"1\" class=\"dataframe\">\n",
       "  <thead>\n",
       "    <tr style=\"text-align: right;\">\n",
       "      <th></th>\n",
       "      <th>Body temperature (degrees Fahrenheit)</th>\n",
       "      <th>Gender (1 = male, 2 = female)</th>\n",
       "      <th>Heart rate (beats per minute)</th>\n",
       "    </tr>\n",
       "  </thead>\n",
       "  <tbody>\n",
       "    <tr>\n",
       "      <th>0</th>\n",
       "      <td>﻿96.3</td>\n",
       "      <td>1</td>\n",
       "      <td>70</td>\n",
       "    </tr>\n",
       "    <tr>\n",
       "      <th>1</th>\n",
       "      <td>96.7</td>\n",
       "      <td>1</td>\n",
       "      <td>71</td>\n",
       "    </tr>\n",
       "    <tr>\n",
       "      <th>2</th>\n",
       "      <td>96.9</td>\n",
       "      <td>1</td>\n",
       "      <td>74</td>\n",
       "    </tr>\n",
       "    <tr>\n",
       "      <th>3</th>\n",
       "      <td>97</td>\n",
       "      <td>1</td>\n",
       "      <td>80</td>\n",
       "    </tr>\n",
       "    <tr>\n",
       "      <th>4</th>\n",
       "      <td>97.1</td>\n",
       "      <td>1</td>\n",
       "      <td>73</td>\n",
       "    </tr>\n",
       "  </tbody>\n",
       "</table>\n",
       "</div>"
      ],
      "text/plain": [
       "  Body temperature (degrees Fahrenheit)  Gender (1 = male, 2 = female)  \\\n",
       "0                                 ﻿96.3                              1   \n",
       "1                                  96.7                              1   \n",
       "2                                  96.9                              1   \n",
       "3                                    97                              1   \n",
       "4                                  97.1                              1   \n",
       "\n",
       "   Heart rate (beats per minute)  \n",
       "0                             70  \n",
       "1                             71  \n",
       "2                             74  \n",
       "3                             80  \n",
       "4                             73  "
      ]
     },
     "execution_count": 173,
     "metadata": {},
     "output_type": "execute_result"
    }
   ],
   "source": [
    "# Your work here.\n",
    "df.head()"
   ]
  },
  {
   "cell_type": "code",
   "execution_count": 174,
   "metadata": {
    "collapsed": false
   },
   "outputs": [
    {
     "name": "stdout",
     "output_type": "stream",
     "text": [
      "<class 'pandas.core.frame.DataFrame'>\n",
      "RangeIndex: 130 entries, 0 to 129\n",
      "Data columns (total 3 columns):\n",
      "Body temperature (degrees Fahrenheit)    130 non-null object\n",
      "Gender (1 = male, 2 = female)            130 non-null int64\n",
      "Heart rate (beats per minute)            130 non-null int64\n",
      "dtypes: int64(2), object(1)\n",
      "memory usage: 3.1+ KB\n"
     ]
    }
   ],
   "source": [
    "df.info()"
   ]
  },
  {
   "cell_type": "code",
   "execution_count": 175,
   "metadata": {
    "collapsed": false
   },
   "outputs": [
    {
     "data": {
      "text/html": [
       "<div>\n",
       "<table border=\"1\" class=\"dataframe\">\n",
       "  <thead>\n",
       "    <tr style=\"text-align: right;\">\n",
       "      <th></th>\n",
       "      <th>Gender (1 = male, 2 = female)</th>\n",
       "      <th>Heart rate (beats per minute)</th>\n",
       "    </tr>\n",
       "  </thead>\n",
       "  <tbody>\n",
       "    <tr>\n",
       "      <th>count</th>\n",
       "      <td>130.000000</td>\n",
       "      <td>130.000000</td>\n",
       "    </tr>\n",
       "    <tr>\n",
       "      <th>mean</th>\n",
       "      <td>1.500000</td>\n",
       "      <td>73.761538</td>\n",
       "    </tr>\n",
       "    <tr>\n",
       "      <th>std</th>\n",
       "      <td>0.501934</td>\n",
       "      <td>7.062077</td>\n",
       "    </tr>\n",
       "    <tr>\n",
       "      <th>min</th>\n",
       "      <td>1.000000</td>\n",
       "      <td>57.000000</td>\n",
       "    </tr>\n",
       "    <tr>\n",
       "      <th>25%</th>\n",
       "      <td>1.000000</td>\n",
       "      <td>69.000000</td>\n",
       "    </tr>\n",
       "    <tr>\n",
       "      <th>50%</th>\n",
       "      <td>1.500000</td>\n",
       "      <td>74.000000</td>\n",
       "    </tr>\n",
       "    <tr>\n",
       "      <th>75%</th>\n",
       "      <td>2.000000</td>\n",
       "      <td>79.000000</td>\n",
       "    </tr>\n",
       "    <tr>\n",
       "      <th>max</th>\n",
       "      <td>2.000000</td>\n",
       "      <td>89.000000</td>\n",
       "    </tr>\n",
       "  </tbody>\n",
       "</table>\n",
       "</div>"
      ],
      "text/plain": [
       "       Gender (1 = male, 2 = female)  Heart rate (beats per minute)\n",
       "count                     130.000000                     130.000000\n",
       "mean                        1.500000                      73.761538\n",
       "std                         0.501934                       7.062077\n",
       "min                         1.000000                      57.000000\n",
       "25%                         1.000000                      69.000000\n",
       "50%                         1.500000                      74.000000\n",
       "75%                         2.000000                      79.000000\n",
       "max                         2.000000                      89.000000"
      ]
     },
     "execution_count": 175,
     "metadata": {},
     "output_type": "execute_result"
    }
   ],
   "source": [
    "df.describe()"
   ]
  },
  {
   "cell_type": "code",
   "execution_count": 176,
   "metadata": {
    "collapsed": false
   },
   "outputs": [
    {
     "name": "stderr",
     "output_type": "stream",
     "text": [
      "C:\\Program Files\\Anaconda33\\lib\\site-packages\\ipykernel\\__main__.py:1: FutureWarning: convert_objects is deprecated.  Use the data-type specific converters pd.to_datetime, pd.to_timedelta and pd.to_numeric.\n",
      "  if __name__ == '__main__':\n"
     ]
    }
   ],
   "source": [
    "df['Body temperature (degrees Fahrenheit)']= df['Body temperature (degrees Fahrenheit)'].convert_objects(convert_numeric=True)"
   ]
  },
  {
   "cell_type": "code",
   "execution_count": 177,
   "metadata": {
    "collapsed": false
   },
   "outputs": [
    {
     "data": {
      "text/plain": [
       "0        NaN\n",
       "1       96.7\n",
       "2       96.9\n",
       "3       97.0\n",
       "4       97.1\n",
       "5       97.1\n",
       "6       97.1\n",
       "7       97.2\n",
       "8       97.3\n",
       "9       97.4\n",
       "10      97.4\n",
       "11      97.4\n",
       "12      97.4\n",
       "13      97.5\n",
       "14      97.5\n",
       "15      97.6\n",
       "16      97.6\n",
       "17      97.6\n",
       "18      97.7\n",
       "19      97.8\n",
       "20      97.8\n",
       "21      97.8\n",
       "22      97.8\n",
       "23      97.9\n",
       "24      97.9\n",
       "25      98.0\n",
       "26      98.0\n",
       "27      98.0\n",
       "28      98.0\n",
       "29      98.0\n",
       "       ...  \n",
       "100     98.5\n",
       "101     98.6\n",
       "102     98.6\n",
       "103     98.6\n",
       "104     98.6\n",
       "105     98.7\n",
       "106     98.7\n",
       "107     98.7\n",
       "108     98.7\n",
       "109     98.7\n",
       "110     98.7\n",
       "111     98.8\n",
       "112     98.8\n",
       "113     98.8\n",
       "114     98.8\n",
       "115     98.8\n",
       "116     98.8\n",
       "117     98.8\n",
       "118     98.9\n",
       "119     99.0\n",
       "120     99.0\n",
       "121     99.1\n",
       "122     99.1\n",
       "123     99.2\n",
       "124     99.2\n",
       "125     99.3\n",
       "126     99.4\n",
       "127     99.9\n",
       "128    100.0\n",
       "129    100.8\n",
       "Name: Body temperature (degrees Fahrenheit), dtype: float64"
      ]
     },
     "execution_count": 177,
     "metadata": {},
     "output_type": "execute_result"
    }
   ],
   "source": [
    "df['Body temperature (degrees Fahrenheit)'] "
   ]
  },
  {
   "cell_type": "code",
   "execution_count": 178,
   "metadata": {
    "collapsed": false
   },
   "outputs": [
    {
     "data": {
      "text/plain": [
       "(130, 3)"
      ]
     },
     "execution_count": 178,
     "metadata": {},
     "output_type": "execute_result"
    }
   ],
   "source": [
    "df.shape"
   ]
  },
  {
   "cell_type": "code",
   "execution_count": 179,
   "metadata": {
    "collapsed": false
   },
   "outputs": [
    {
     "data": {
      "image/png": "[encoded data removed]",
      "text/plain": [
       "<matplotlib.figure.Figure at 0x19cce42c828>"
      ]
     },
     "metadata": {},
     "output_type": "display_data"
    }
   ],
   "source": [
    "import matplotlib.pyplot as plt\n",
    "import seaborn as sns\n",
    "\n",
    "\n",
    "# Set default Seaborn style\n",
    "sns.style = sns.set()\n",
    "\n",
    "bin_edges = [96, 96.5, 97, 97.5, 98, 98.5, 99, 99.5, 100, 100.5, 101]\n",
    "\n",
    "\n",
    "_ = plt.hist(df['Body temperature (degrees Fahrenheit)'].dropna(), bins = bin_edges)\n",
    "\n",
    "_ = plt.xlabel('Body temperature (degrees Fahrenheit)')\n",
    "_ = plt.ylabel('number of people')\n",
    "_ = plt.title('Finding Avg Human Body temperatures')\n",
    "plt.show()"
   ]
  },
  {
   "cell_type": "code",
   "execution_count": 180,
   "metadata": {
    "collapsed": true
   },
   "outputs": [],
   "source": [
    "def ecdf(data):\n",
    "    \"\"\"Compute ECDF for a one-dimensional array of measurements.\"\"\"\n",
    "\n",
    "    # Number of data points: n\n",
    "    n = len(data)\n",
    "\n",
    "    # x-data for the ECDF: x\n",
    "\n",
    "    x = np.sort(data)\n",
    "\n",
    "    # y-data for the ECDF: y\n",
    "    y = np.arange(1, n+1) / n\n",
    "\n",
    "    return x, y"
   ]
  },
  {
   "cell_type": "code",
   "execution_count": 181,
   "metadata": {
    "collapsed": false
   },
   "outputs": [
    {
     "data": {
      "text/html": [
       "<div>\n",
       "<table border=\"1\" class=\"dataframe\">\n",
       "  <thead>\n",
       "    <tr style=\"text-align: right;\">\n",
       "      <th></th>\n",
       "      <th>Body temperature (degrees Fahrenheit)</th>\n",
       "      <th>Gender (1 = male, 2 = female)</th>\n",
       "      <th>Heart rate (beats per minute)</th>\n",
       "    </tr>\n",
       "  </thead>\n",
       "  <tbody>\n",
       "    <tr>\n",
       "      <th>0</th>\n",
       "      <td>NaN</td>\n",
       "      <td>1</td>\n",
       "      <td>70</td>\n",
       "    </tr>\n",
       "    <tr>\n",
       "      <th>1</th>\n",
       "      <td>96.7</td>\n",
       "      <td>1</td>\n",
       "      <td>71</td>\n",
       "    </tr>\n",
       "    <tr>\n",
       "      <th>2</th>\n",
       "      <td>96.9</td>\n",
       "      <td>1</td>\n",
       "      <td>74</td>\n",
       "    </tr>\n",
       "    <tr>\n",
       "      <th>3</th>\n",
       "      <td>97.0</td>\n",
       "      <td>1</td>\n",
       "      <td>80</td>\n",
       "    </tr>\n",
       "    <tr>\n",
       "      <th>4</th>\n",
       "      <td>97.1</td>\n",
       "      <td>1</td>\n",
       "      <td>73</td>\n",
       "    </tr>\n",
       "    <tr>\n",
       "      <th>5</th>\n",
       "      <td>97.1</td>\n",
       "      <td>1</td>\n",
       "      <td>75</td>\n",
       "    </tr>\n",
       "    <tr>\n",
       "      <th>6</th>\n",
       "      <td>97.1</td>\n",
       "      <td>1</td>\n",
       "      <td>82</td>\n",
       "    </tr>\n",
       "    <tr>\n",
       "      <th>7</th>\n",
       "      <td>97.2</td>\n",
       "      <td>1</td>\n",
       "      <td>64</td>\n",
       "    </tr>\n",
       "    <tr>\n",
       "      <th>8</th>\n",
       "      <td>97.3</td>\n",
       "      <td>1</td>\n",
       "      <td>69</td>\n",
       "    </tr>\n",
       "    <tr>\n",
       "      <th>9</th>\n",
       "      <td>97.4</td>\n",
       "      <td>1</td>\n",
       "      <td>70</td>\n",
       "    </tr>\n",
       "    <tr>\n",
       "      <th>10</th>\n",
       "      <td>97.4</td>\n",
       "      <td>1</td>\n",
       "      <td>68</td>\n",
       "    </tr>\n",
       "    <tr>\n",
       "      <th>11</th>\n",
       "      <td>97.4</td>\n",
       "      <td>1</td>\n",
       "      <td>72</td>\n",
       "    </tr>\n",
       "    <tr>\n",
       "      <th>12</th>\n",
       "      <td>97.4</td>\n",
       "      <td>1</td>\n",
       "      <td>78</td>\n",
       "    </tr>\n",
       "    <tr>\n",
       "      <th>13</th>\n",
       "      <td>97.5</td>\n",
       "      <td>1</td>\n",
       "      <td>70</td>\n",
       "    </tr>\n",
       "    <tr>\n",
       "      <th>14</th>\n",
       "      <td>97.5</td>\n",
       "      <td>1</td>\n",
       "      <td>75</td>\n",
       "    </tr>\n",
       "    <tr>\n",
       "      <th>15</th>\n",
       "      <td>97.6</td>\n",
       "      <td>1</td>\n",
       "      <td>74</td>\n",
       "    </tr>\n",
       "    <tr>\n",
       "      <th>16</th>\n",
       "      <td>97.6</td>\n",
       "      <td>1</td>\n",
       "      <td>69</td>\n",
       "    </tr>\n",
       "    <tr>\n",
       "      <th>17</th>\n",
       "      <td>97.6</td>\n",
       "      <td>1</td>\n",
       "      <td>73</td>\n",
       "    </tr>\n",
       "    <tr>\n",
       "      <th>18</th>\n",
       "      <td>97.7</td>\n",
       "      <td>1</td>\n",
       "      <td>77</td>\n",
       "    </tr>\n",
       "    <tr>\n",
       "      <th>19</th>\n",
       "      <td>97.8</td>\n",
       "      <td>1</td>\n",
       "      <td>58</td>\n",
       "    </tr>\n",
       "    <tr>\n",
       "      <th>20</th>\n",
       "      <td>97.8</td>\n",
       "      <td>1</td>\n",
       "      <td>73</td>\n",
       "    </tr>\n",
       "    <tr>\n",
       "      <th>21</th>\n",
       "      <td>97.8</td>\n",
       "      <td>1</td>\n",
       "      <td>65</td>\n",
       "    </tr>\n",
       "    <tr>\n",
       "      <th>22</th>\n",
       "      <td>97.8</td>\n",
       "      <td>1</td>\n",
       "      <td>74</td>\n",
       "    </tr>\n",
       "    <tr>\n",
       "      <th>23</th>\n",
       "      <td>97.9</td>\n",
       "      <td>1</td>\n",
       "      <td>76</td>\n",
       "    </tr>\n",
       "    <tr>\n",
       "      <th>24</th>\n",
       "      <td>97.9</td>\n",
       "      <td>1</td>\n",
       "      <td>72</td>\n",
       "    </tr>\n",
       "    <tr>\n",
       "      <th>25</th>\n",
       "      <td>98.0</td>\n",
       "      <td>1</td>\n",
       "      <td>78</td>\n",
       "    </tr>\n",
       "    <tr>\n",
       "      <th>26</th>\n",
       "      <td>98.0</td>\n",
       "      <td>1</td>\n",
       "      <td>71</td>\n",
       "    </tr>\n",
       "    <tr>\n",
       "      <th>27</th>\n",
       "      <td>98.0</td>\n",
       "      <td>1</td>\n",
       "      <td>74</td>\n",
       "    </tr>\n",
       "    <tr>\n",
       "      <th>28</th>\n",
       "      <td>98.0</td>\n",
       "      <td>1</td>\n",
       "      <td>67</td>\n",
       "    </tr>\n",
       "    <tr>\n",
       "      <th>29</th>\n",
       "      <td>98.0</td>\n",
       "      <td>1</td>\n",
       "      <td>64</td>\n",
       "    </tr>\n",
       "    <tr>\n",
       "      <th>...</th>\n",
       "      <td>...</td>\n",
       "      <td>...</td>\n",
       "      <td>...</td>\n",
       "    </tr>\n",
       "    <tr>\n",
       "      <th>100</th>\n",
       "      <td>98.5</td>\n",
       "      <td>2</td>\n",
       "      <td>83</td>\n",
       "    </tr>\n",
       "    <tr>\n",
       "      <th>101</th>\n",
       "      <td>98.6</td>\n",
       "      <td>2</td>\n",
       "      <td>82</td>\n",
       "    </tr>\n",
       "    <tr>\n",
       "      <th>102</th>\n",
       "      <td>98.6</td>\n",
       "      <td>2</td>\n",
       "      <td>85</td>\n",
       "    </tr>\n",
       "    <tr>\n",
       "      <th>103</th>\n",
       "      <td>98.6</td>\n",
       "      <td>2</td>\n",
       "      <td>86</td>\n",
       "    </tr>\n",
       "    <tr>\n",
       "      <th>104</th>\n",
       "      <td>98.6</td>\n",
       "      <td>2</td>\n",
       "      <td>77</td>\n",
       "    </tr>\n",
       "    <tr>\n",
       "      <th>105</th>\n",
       "      <td>98.7</td>\n",
       "      <td>2</td>\n",
       "      <td>72</td>\n",
       "    </tr>\n",
       "    <tr>\n",
       "      <th>106</th>\n",
       "      <td>98.7</td>\n",
       "      <td>2</td>\n",
       "      <td>79</td>\n",
       "    </tr>\n",
       "    <tr>\n",
       "      <th>107</th>\n",
       "      <td>98.7</td>\n",
       "      <td>2</td>\n",
       "      <td>59</td>\n",
       "    </tr>\n",
       "    <tr>\n",
       "      <th>108</th>\n",
       "      <td>98.7</td>\n",
       "      <td>2</td>\n",
       "      <td>64</td>\n",
       "    </tr>\n",
       "    <tr>\n",
       "      <th>109</th>\n",
       "      <td>98.7</td>\n",
       "      <td>2</td>\n",
       "      <td>65</td>\n",
       "    </tr>\n",
       "    <tr>\n",
       "      <th>110</th>\n",
       "      <td>98.7</td>\n",
       "      <td>2</td>\n",
       "      <td>82</td>\n",
       "    </tr>\n",
       "    <tr>\n",
       "      <th>111</th>\n",
       "      <td>98.8</td>\n",
       "      <td>2</td>\n",
       "      <td>64</td>\n",
       "    </tr>\n",
       "    <tr>\n",
       "      <th>112</th>\n",
       "      <td>98.8</td>\n",
       "      <td>2</td>\n",
       "      <td>70</td>\n",
       "    </tr>\n",
       "    <tr>\n",
       "      <th>113</th>\n",
       "      <td>98.8</td>\n",
       "      <td>2</td>\n",
       "      <td>83</td>\n",
       "    </tr>\n",
       "    <tr>\n",
       "      <th>114</th>\n",
       "      <td>98.8</td>\n",
       "      <td>2</td>\n",
       "      <td>89</td>\n",
       "    </tr>\n",
       "    <tr>\n",
       "      <th>115</th>\n",
       "      <td>98.8</td>\n",
       "      <td>2</td>\n",
       "      <td>69</td>\n",
       "    </tr>\n",
       "    <tr>\n",
       "      <th>116</th>\n",
       "      <td>98.8</td>\n",
       "      <td>2</td>\n",
       "      <td>73</td>\n",
       "    </tr>\n",
       "    <tr>\n",
       "      <th>117</th>\n",
       "      <td>98.8</td>\n",
       "      <td>2</td>\n",
       "      <td>84</td>\n",
       "    </tr>\n",
       "    <tr>\n",
       "      <th>118</th>\n",
       "      <td>98.9</td>\n",
       "      <td>2</td>\n",
       "      <td>76</td>\n",
       "    </tr>\n",
       "    <tr>\n",
       "      <th>119</th>\n",
       "      <td>99.0</td>\n",
       "      <td>2</td>\n",
       "      <td>79</td>\n",
       "    </tr>\n",
       "    <tr>\n",
       "      <th>120</th>\n",
       "      <td>99.0</td>\n",
       "      <td>2</td>\n",
       "      <td>81</td>\n",
       "    </tr>\n",
       "    <tr>\n",
       "      <th>121</th>\n",
       "      <td>99.1</td>\n",
       "      <td>2</td>\n",
       "      <td>80</td>\n",
       "    </tr>\n",
       "    <tr>\n",
       "      <th>122</th>\n",
       "      <td>99.1</td>\n",
       "      <td>2</td>\n",
       "      <td>74</td>\n",
       "    </tr>\n",
       "    <tr>\n",
       "      <th>123</th>\n",
       "      <td>99.2</td>\n",
       "      <td>2</td>\n",
       "      <td>77</td>\n",
       "    </tr>\n",
       "    <tr>\n",
       "      <th>124</th>\n",
       "      <td>99.2</td>\n",
       "      <td>2</td>\n",
       "      <td>66</td>\n",
       "    </tr>\n",
       "    <tr>\n",
       "      <th>125</th>\n",
       "      <td>99.3</td>\n",
       "      <td>2</td>\n",
       "      <td>68</td>\n",
       "    </tr>\n",
       "    <tr>\n",
       "      <th>126</th>\n",
       "      <td>99.4</td>\n",
       "      <td>2</td>\n",
       "      <td>77</td>\n",
       "    </tr>\n",
       "    <tr>\n",
       "      <th>127</th>\n",
       "      <td>99.9</td>\n",
       "      <td>2</td>\n",
       "      <td>79</td>\n",
       "    </tr>\n",
       "    <tr>\n",
       "      <th>128</th>\n",
       "      <td>100.0</td>\n",
       "      <td>2</td>\n",
       "      <td>78</td>\n",
       "    </tr>\n",
       "    <tr>\n",
       "      <th>129</th>\n",
       "      <td>100.8</td>\n",
       "      <td>2</td>\n",
       "      <td>77</td>\n",
       "    </tr>\n",
       "  </tbody>\n",
       "</table>\n",
       "<p>130 rows × 3 columns</p>\n",
       "</div>"
      ],
      "text/plain": [
       "     Body temperature (degrees Fahrenheit)  Gender (1 = male, 2 = female)  \\\n",
       "0                                      NaN                              1   \n",
       "1                                     96.7                              1   \n",
       "2                                     96.9                              1   \n",
       "3                                     97.0                              1   \n",
       "4                                     97.1                              1   \n",
       "5                                     97.1                              1   \n",
       "6                                     97.1                              1   \n",
       "7                                     97.2                              1   \n",
       "8                                     97.3                              1   \n",
       "9                                     97.4                              1   \n",
       "10                                    97.4                              1   \n",
       "11                                    97.4                              1   \n",
       "12                                    97.4                              1   \n",
       "13                                    97.5                              1   \n",
       "14                                    97.5                              1   \n",
       "15                                    97.6                              1   \n",
       "16                                    97.6                              1   \n",
       "17                                    97.6                              1   \n",
       "18                                    97.7                              1   \n",
       "19                                    97.8                              1   \n",
       "20                                    97.8                              1   \n",
       "21                                    97.8                              1   \n",
       "22                                    97.8                              1   \n",
       "23                                    97.9                              1   \n",
       "24                                    97.9                              1   \n",
       "25                                    98.0                              1   \n",
       "26                                    98.0                              1   \n",
       "27                                    98.0                              1   \n",
       "28                                    98.0                              1   \n",
       "29                                    98.0                              1   \n",
       "..                                     ...                            ...   \n",
       "100                                   98.5                              2   \n",
       "101                                   98.6                              2   \n",
       "102                                   98.6                              2   \n",
       "103                                   98.6                              2   \n",
       "104                                   98.6                              2   \n",
       "105                                   98.7                              2   \n",
       "106                                   98.7                              2   \n",
       "107                                   98.7                              2   \n",
       "108                                   98.7                              2   \n",
       "109                                   98.7                              2   \n",
       "110                                   98.7                              2   \n",
       "111                                   98.8                              2   \n",
       "112                                   98.8                              2   \n",
       "113                                   98.8                              2   \n",
       "114                                   98.8                              2   \n",
       "115                                   98.8                              2   \n",
       "116                                   98.8                              2   \n",
       "117                                   98.8                              2   \n",
       "118                                   98.9                              2   \n",
       "119                                   99.0                              2   \n",
       "120                                   99.0                              2   \n",
       "121                                   99.1                              2   \n",
       "122                                   99.1                              2   \n",
       "123                                   99.2                              2   \n",
       "124                                   99.2                              2   \n",
       "125                                   99.3                              2   \n",
       "126                                   99.4                              2   \n",
       "127                                   99.9                              2   \n",
       "128                                  100.0                              2   \n",
       "129                                  100.8                              2   \n",
       "\n",
       "     Heart rate (beats per minute)  \n",
       "0                               70  \n",
       "1                               71  \n",
       "2                               74  \n",
       "3                               80  \n",
       "4                               73  \n",
       "5                               75  \n",
       "6                               82  \n",
       "7                               64  \n",
       "8                               69  \n",
       "9                               70  \n",
       "10                              68  \n",
       "11                              72  \n",
       "12                              78  \n",
       "13                              70  \n",
       "14                              75  \n",
       "15                              74  \n",
       "16                              69  \n",
       "17                              73  \n",
       "18                              77  \n",
       "19                              58  \n",
       "20                              73  \n",
       "21                              65  \n",
       "22                              74  \n",
       "23                              76  \n",
       "24                              72  \n",
       "25                              78  \n",
       "26                              71  \n",
       "27                              74  \n",
       "28                              67  \n",
       "29                              64  \n",
       "..                             ...  \n",
       "100                             83  \n",
       "101                             82  \n",
       "102                             85  \n",
       "103                             86  \n",
       "104                             77  \n",
       "105                             72  \n",
       "106                             79  \n",
       "107                             59  \n",
       "108                             64  \n",
       "109                             65  \n",
       "110                             82  \n",
       "111                             64  \n",
       "112                             70  \n",
       "113                             83  \n",
       "114                             89  \n",
       "115                             69  \n",
       "116                             73  \n",
       "117                             84  \n",
       "118                             76  \n",
       "119                             79  \n",
       "120                             81  \n",
       "121                             80  \n",
       "122                             74  \n",
       "123                             77  \n",
       "124                             66  \n",
       "125                             68  \n",
       "126                             77  \n",
       "127                             79  \n",
       "128                             78  \n",
       "129                             77  \n",
       "\n",
       "[130 rows x 3 columns]"
      ]
     },
     "execution_count": 181,
     "metadata": {},
     "output_type": "execute_result"
    }
   ],
   "source": [
    "df"
   ]
  },
  {
   "cell_type": "code",
   "execution_count": 182,
   "metadata": {
    "collapsed": false
   },
   "outputs": [
    {
     "data": {
      "image/png": "[encoded data removed]",
      "text/plain": [
       "<matplotlib.figure.Figure at 0x19cd11cc390>"
      ]
     },
     "metadata": {},
     "output_type": "display_data"
    }
   ],
   "source": [
    "import numpy as np\n",
    "\n",
    "x_all,y_all = ecdf(df['Body temperature (degrees Fahrenheit)'].dropna())\n",
    "\n",
    "# x_male,y_male = ecdf(male_temps)\n",
    "\n",
    "# x_female,y_female = ecdf(female_temps)\n",
    "\n",
    "\n",
    "_ = plt.plot(x_all, y_all, marker ='.', linestyle='none', color='green')\n",
    "# _ = plt.plot(x_male,y_male, marker ='.', linestyle='none', color = 'blue')\n",
    "# _ = plt.plot(x_female,y_female, marker ='.', linestyle='none', color = 'red')\n",
    "\n",
    "_ = plt.xlabel('Body temperature (degrees Fahrenheit)')\n",
    "\n",
    "_ = plt.ylabel('ECDF')\n",
    "\n",
    "plt.margins(0.02)\n",
    "\n",
    "plt.legend(('all', 'male', 'female'), loc='lower right')\n",
    "plt.show()"
   ]
  },
  {
   "cell_type": "code",
   "execution_count": 183,
   "metadata": {
    "collapsed": false
   },
   "outputs": [
    {
     "data": {
      "image/png": "[encoded data removed]",
      "text/plain": [
       "<matplotlib.figure.Figure at 0x19cd13a5358>"
      ]
     },
     "metadata": {},
     "output_type": "display_data"
    }
   ],
   "source": [
    "# Create bee swarm plot with Seaborn's default settings\n",
    "_ = sns.swarmplot(x='Gender (1 = male, 2 = female)', y='Body temperature (degrees Fahrenheit)', data=df)\n",
    "\n",
    "# Label the axes\n",
    "_ = plt.xlabel('Gender(1 = male, 2 = female)')\n",
    "_ = plt.ylabel('Body temperature (degrees Fahrenheit)')\n",
    "\n",
    "# Show the plot\n",
    "plt.show()"
   ]
  },
  {
   "cell_type": "markdown",
   "metadata": {},
   "source": [
    "<div class=\"span5 alert alert-success\">\n",
    "Q1. Is the distribution of body temperatures normal? \n",
    "\n",
    "<p>A1. Diagram below shows that the distribution of the Body temps is normal as the actual data plot follows very cosely to the ecdf (samples based on mu and sigma) plot.   Additionally per the histogram the above distribution is also normal since it is equally distributed around the center.</p>\n",
    "</div>"
   ]
  },
  {
   "cell_type": "code",
   "execution_count": 184,
   "metadata": {
    "collapsed": false
   },
   "outputs": [
    {
     "data": {
      "image/png": "[encoded data removed]",
      "text/plain": [
       "<matplotlib.figure.Figure at 0x19cd13d10b8>"
      ]
     },
     "metadata": {},
     "output_type": "display_data"
    }
   ],
   "source": [
    "# Compute mean and standard deviation: mu, sigma\n",
    "\n",
    "mu = np.mean(df['Body temperature (degrees Fahrenheit)'])\n",
    "sigma = np.std(df['Body temperature (degrees Fahrenheit)'])\n",
    "\n",
    "# Sample out of a normal distribution with this mu and sigma: samples\n",
    "samples = np.random.normal(mu, sigma, size=130)\n",
    "\n",
    "# Get the CDF of the samples and of the data\n",
    "x_theor, y_theor = ecdf(samples)\n",
    "x, y = ecdf(df['Body temperature (degrees Fahrenheit)'])\n",
    "\n",
    "# Plot the CDFs and show the plot\n",
    "_ = plt.plot(x_theor, y_theor)\n",
    "_ = plt.plot(x, y, marker='.', linestyle='none')\n",
    "plt.margins(0.02)\n",
    "_ = plt.xlabel('Body temperature (degrees Fahrenheit)')\n",
    "_ = plt.ylabel('CDF')\n",
    "plt.show()"
   ]
  },
  {
   "cell_type": "markdown",
   "metadata": {},
   "source": [
    "<div class=\"span5 alert alert-success\">\n",
    "Q2. Is the sample size large? Are the observations independent?\n",
    "<p>A2. So per the CLT (Central Limit Theorem) if the sample size is >30 which here we have taken a 130 count sample size and this should be good to prove that the data is normally distributed.The observations in each sample are assumed to be independent since the sample was drawn randomly.</p>"
   ]
  },
  {
   "cell_type": "markdown",
   "metadata": {},
   "source": [
    "###### Conditions for CLT:\n",
    "\n",
    "<h3>Independence</h3>\n",
    "    <p>\n",
    "    The sampled obervsations must be independent\n",
    "    random sampling should be done.\n",
    "    If sampling without replacement, the sample should be less than 10% of the population.\n",
    "    </p>\n",
    "<h3>Sample skew</h3>\n",
    "    <p>\n",
    "    The population distribution should be normal\n",
    "    But if the distribution is skewed, the sample must be large (greater than 30)</p>\n",
    "    "
   ]
  },
  {
   "cell_type": "markdown",
   "metadata": {},
   "source": [
    "<div class=\"span5 alert alert-success\">\n",
    "Q3.Is the true population mean really 98.6 degrees F?\n",
    "<p>A3.  See Below"
   ]
  },
  {
   "cell_type": "code",
   "execution_count": 185,
   "metadata": {
    "collapsed": false
   },
   "outputs": [
    {
     "data": {
      "text/plain": [
       "98.26434108527133"
      ]
     },
     "execution_count": 185,
     "metadata": {},
     "output_type": "execute_result"
    }
   ],
   "source": [
    "np.mean(df['Body temperature (degrees Fahrenheit)'].dropna())"
   ]
  },
  {
   "cell_type": "code",
   "execution_count": 186,
   "metadata": {
    "collapsed": false
   },
   "outputs": [
    {
     "data": {
      "text/plain": [
       "98.26434108527133"
      ]
     },
     "execution_count": 186,
     "metadata": {},
     "output_type": "execute_result"
    }
   ],
   "source": [
    "np.mean(df['Body temperature (degrees Fahrenheit)'])"
   ]
  },
  {
   "cell_type": "markdown",
   "metadata": {},
   "source": [
    "###### A one-sample bootstrap hypothesis test"
   ]
  },
  {
   "cell_type": "code",
   "execution_count": 187,
   "metadata": {
    "collapsed": true
   },
   "outputs": [],
   "source": [
    "def bootstrap_replicate_1d(data, func):\n",
    "    return func(np.random.choice(data, size=len(data)))"
   ]
  },
  {
   "cell_type": "code",
   "execution_count": 188,
   "metadata": {
    "collapsed": true
   },
   "outputs": [],
   "source": [
    "def draw_bs_reps(data, func, size=1):\n",
    "    \"\"\"Draw bootstrap replicates.\"\"\"\n",
    "\n",
    "    # Initialize array of replicates: bs_replicates\n",
    "    bs_replicates = np.empty(size)\n",
    "\n",
    "    # Generate replicates\n",
    "    for i in range(size):\n",
    "        bs_replicates[i] = bootstrap_replicate_1d(data, func)\n",
    "\n",
    "    return bs_replicates"
   ]
  },
  {
   "cell_type": "code",
   "execution_count": 189,
   "metadata": {
    "collapsed": false
   },
   "outputs": [
    {
     "name": "stdout",
     "output_type": "stream",
     "text": [
      "p =  0.0\n"
     ]
    }
   ],
   "source": [
    "# Make an array of translated temperatures: translated_temp\n",
    "translated_temp = df['Body temperature (degrees Fahrenheit)'].dropna() - np.mean(df['Body temperature (degrees Fahrenheit)']) + 98.6\n",
    "\n",
    "# Take bootstrap replicates of translated temperatures: bs_replicates\n",
    "bs_replicates = draw_bs_reps(translated_temp, np.mean, 10000)\n",
    "\n",
    "# Compute fraction of replicates that are less than the observed population temperatures: p\n",
    "p = np.sum(bs_replicates <= np.mean(df['Body temperature (degrees Fahrenheit)'].dropna())) / 10000\n",
    "\n",
    "# Print the p-value\n",
    "print('p = ', p)"
   ]
  },
  {
   "cell_type": "markdown",
   "metadata": {},
   "source": [
    "<div class=\"span5 alert alert-success\">\n",
    "Q3.Is the true population mean really 98.6 degrees F?\n",
    "<p>A3. \n",
    "<li> H-null: The mean human body temperature <b>IS</b> 98.6 deg F.\n",
    "<li> H-alt:  The mean human body temperature <b>IS NOT</b> 98.6 deg F.\n",
    "\n",
    "$$H_0: p_T = 98.6$$\n",
    "$$H_A: p_T \\ne 98.6$$\n",
    "\n",
    "\n",
    "<li> According to the one-sample bootstrap test --> With p=0 we can easily reject the null hypothesis that the mean is  98.6 and safely say that the probablitiy that the mean of the population <b>IS NOT</b> 98.6."
   ]
  },
  {
   "cell_type": "markdown",
   "metadata": {},
   "source": [
    "###### A one-sample t-test hypothesis testing: Tests the mean of a single group against a known mean"
   ]
  },
  {
   "cell_type": "markdown",
   "metadata": {},
   "source": [
    "<div><h3>What are T-Values and P-values?</h3>\n",
    "How big is “big enough”? Every t-value has a p-value to go with it. A p-value is the probability that the results from your sample data occurred by chance. P-values are from 0% to 100%. They are usually written as a decimal. For example, a p value of 5% is 0.05. Low p-values are good; They indicate your data did not occur by chance. For example, a p-value of .01 means there is only a 1% probability that the results from an experiment happened by chance. In most cases, a p-value of 0.05 (5%) is accepted to mean the data is valid.\n",
    "<ol>\n",
    "Types of t-tests?\n",
    "There are three main types of t-test:\n",
    "<li> An Independent Samples t-test compares the means for two groups.\n",
    "<li> A Paired sample t-test compares means from the same group at different times (say, one year apart).\n",
    "<li> A One sample t-test tests the mean of a single group against a known mean.</div>"
   ]
  },
  {
   "cell_type": "code",
   "execution_count": 190,
   "metadata": {
    "collapsed": true
   },
   "outputs": [],
   "source": [
    "from scipy import stats"
   ]
  },
  {
   "cell_type": "code",
   "execution_count": 191,
   "metadata": {
    "collapsed": false
   },
   "outputs": [
    {
     "data": {
      "text/plain": [
       "-5.3702083190522494"
      ]
     },
     "execution_count": 191,
     "metadata": {},
     "output_type": "execute_result"
    }
   ],
   "source": [
    "#t = (sample mean - proposed mean)/ (sample std. dev / sqrt(sample size))\n",
    "\n",
    "tstat =  (np.mean(df['Body temperature (degrees Fahrenheit)'].dropna()) - 98.6)/ (np.std(df['Body temperature (degrees Fahrenheit)'].dropna()) / np.sqrt(130))\n",
    "\n",
    "tstat\n"
   ]
  },
  {
   "cell_type": "code",
   "execution_count": 192,
   "metadata": {
    "collapsed": false
   },
   "outputs": [
    {
     "data": {
      "text/plain": [
       "Ttest_1sampResult(statistic=-5.3287389083394645, pvalue=4.3163551169933178e-07)"
      ]
     },
     "execution_count": 192,
     "metadata": {},
     "output_type": "execute_result"
    }
   ],
   "source": [
    "#Here we are using a 1 sample t-test since we are comparing the mean of this group of people to the known mean 98.6degF\n",
    "stats.ttest_1samp(df['Body temperature (degrees Fahrenheit)'].dropna(), 98.6)  "
   ]
  },
  {
   "cell_type": "markdown",
   "metadata": {},
   "source": [
    "<div class=\"span5 alert alert-success\">\n",
    "Q3.Is the true population mean really 98.6 degrees F?\n",
    "<p>A3. According to the 1 sample t-test--> With a p-value of 10^-7 we can claim that the population mean for the Body Temperatures IS NOT 98.6.  This is because our null hypothesis is that the human body temperature mean is 98.6, but this is being rejected due to the very low p-value gotten from the 1 sample t-test.</p>\n",
    "\n",
    "$$H_0: p_T = 98.6$$\n",
    "$$H_A: p_T \\ne 98.6$$\n",
    "\n",
    "Q3 let's try frequentist statistical testing. Would you use a one-sample or two-sample test? Why? \n",
    "<p>A3 Here we are using a 1 sample t-test since we are comparing the mean of this group of people to the known mean 98.6deg.F.  A 2 sample test would be used if we were comparing male and female body temperatures i.e. 2 distinct samples.</p>\n"
   ]
  },
  {
   "cell_type": "markdown",
   "metadata": {},
   "source": [
    "<div>\n",
    "We use these tests for different reasons and under different circumstances.\n",
    "<ul>\n",
    "<li>z-test. A z-test assumes that our observations are independently drawn from a Normal distribution with unknown mean and known variance. A z-test is used primarily when we have quantitative data. (i.e. weights of rodents, ages of individuals, systolic blood pressure, etc.) However, z-tests can also be used when interested in proportions. (i.e. the proportion of people who get at least eight hours of sleep, etc.)\n",
    "\n",
    "<li>t-test. A t-test assumes that our observations are independently drawn from a Normal distribution with unknown mean and unknown variance. Note that with a t-test, we do not know the population variance. This is far more common than knowing the population variance, so a t-test is generally more appropriate than a z-test, but practically there will be little difference between the two if sample sizes are large.\n",
    "\n",
    "With z- and t-tests, your alternative hypothesis will be that your population mean (or population proportion) of one group is either not equal, less than, or greater than the population mean (or proportion) or the other group. This will depend on the type of analysis you seek to do, but your null and alternative hypotheses directly compare the means/proportions from the two groups.\n",
    "\n",
    "<li>Chi-squared test. Whereas z- and t-tests concern quantitative data (or proportions in the case of z), chi-squared tests are appropriate for qualitative data. Again, the assumption is that observations are independent of one another. In this case, you aren't seeking a particular relationship. Your null hypothesis is that no relationship exists between variable one and variable two. Your alternative hypothesis is that a relationship does exist. This doesn't give you specifics as to how this relationship exists (i.e. In which direction does the relationship go) but it will provide evidence that a relationship does (or does not) exist between your independent variable and your groups.\n",
    "\n",
    "<li>Fisher's exact test. One drawback to the chi-squared test is that it is asymptotic. This means that the p-value is accurate for very large sample sizes. However, if your sample sizes are small, then the p-value may not be quite accurate. As such, Fisher's exact test allows you to exactly calculate the p-value of your data and not rely on approximations that will be poor if your sample sizes are small.\n",
    "\n",
    "I keep discussing sample sizes - different references will give you different metrics as to when your samples are large enough. I would just find a reputable source, look at their rule, and apply their rule to find the test you want. I would not \"shop around,\" so to speak, until you find a rule that you \"like.\"\n",
    "\n",
    "Ultimately, the test you choose should be based on a) your sample size and b) what form you want your hypotheses to take. If you are looking for a specific effect from your A/B test (for example, my B group has higher test scores), then I would opt for a z-test or t-test, pending sample size and the knowledge of the population variance. If you want to show that a relationship merely exists (for example, my A group and B group are different based on the independent variable but I don't care which group has higher scores), then the chi-squared or Fisher's exact test is appropriate, depending on sample size.\n",
    "</div>"
   ]
  },
  {
   "cell_type": "markdown",
   "metadata": {},
   "source": [
    "<div>Z-test vs T-test\n",
    "We have already done a few Z-tests before where we validated our null hypothesis.\n",
    "\n",
    "\n",
    "<li>A T-distribution is similar to a Z-distribution—it is centered at zero and has a basic bell shape, but its shorter and flatter around the center than the Z-distribution.\n",
    "\n",
    "<li>The T-distributions' standard deviation is usually proportionally larger than the Z, because of which you see the fatter tails on each side.\n",
    "\n",
    "<li>The t distribution is usually used to analyze the population when the sample is small.\n",
    "\n",
    "<li>The Z-test is used to compare the population mean against a sample or compare the population mean of two distributions with a sample size greater than 30. An example of a Z-test would be comparing the heights of men from different ethnicity groups.\n",
    "\n",
    "<li>The T-test is used to compare the population mean against a sample, or compare the population mean of two distributions with a sample size less than 30, and when you don't know the population's standard deviation.</div>"
   ]
  },
  {
   "cell_type": "markdown",
   "metadata": {},
   "source": [
    "<div class=\"span5 alert alert-success\">\n",
    "Q3 In this situation, is it appropriate to use the t or z statistic? \n",
    "<p>A3  Since with a t-test, it assumes that our observations are independently drawn from a Normal distribution with unknown mean and unknown variance, we are therefore inclined to say that it is more appropriate to use the z test in this case.  This is due to the large sample size of >30 i.e. 130 here and the fact that we have a known population mean and a known population variance.</p>"
   ]
  },
  {
   "cell_type": "code",
   "execution_count": 193,
   "metadata": {
    "collapsed": false
   },
   "outputs": [
    {
     "data": {
      "text/plain": [
       "0.47099842715740964"
      ]
     },
     "execution_count": 193,
     "metadata": {},
     "output_type": "execute_result"
    }
   ],
   "source": [
    "mean_alltemps = np.mean(df['Body temperature (degrees Fahrenheit)'])\n",
    "std_alltemps = np.std(df['Body temperature (degrees Fahrenheit)'])\n",
    "\n",
    "zscore = ( 98.6 - mean_alltemps ) / std_alltemps\n",
    "zscore"
   ]
  },
  {
   "cell_type": "code",
   "execution_count": 194,
   "metadata": {
    "collapsed": false
   },
   "outputs": [
    {
     "data": {
      "text/plain": [
       "0.31882092904676895"
      ]
     },
     "execution_count": 194,
     "metadata": {},
     "output_type": "execute_result"
    }
   ],
   "source": [
    "prob = 1 - stats.norm.cdf(zscore)\n",
    "prob"
   ]
  },
  {
   "cell_type": "markdown",
   "metadata": {},
   "source": [
    "<div class=\"span5 alert alert-success\">\n",
    "<p>A3 Since the p-value (0.31882092904676895 ~ 0.3) is greater than the significance level (α assumed to be 0.05 for (0.95)95% confidence interval), then the null hypothesis is consistent and cannot be rejected. In other words per the p-value of the zscore the human body temperature mean is 98.6 deg F.</p?\n",
    "\n",
    "$$H_0: p_T = 98.6$$\n",
    "$$H_A: p_T \\ne 98.6$$\n",
    "\n",
    "This shows us that the t-statistic and z-statistic give us opposed results.  \n",
    "The 1 sample bootstrap test and the 1 sample t-test both give same results i.e. mean human body temperature is not 98.6.\n",
    "The z-statistic is that the mean human body temperature IS 98.6.\n",
    "\n",
    "Since for a large sample test we follow z-test we now say that the mean human body temperature IS 98.6."
   ]
  },
  {
   "cell_type": "markdown",
   "metadata": {},
   "source": [
    "<div class=\"span5 alert alert-success\">\n",
    "Q4. Draw a small sample of size 10 from the data and repeat both frequentist tests.  \n",
    "Which one is the correct one to use? \n",
    "What do you notice? \n",
    "What does this tell you about the difference in application of the t and z statistic? "
   ]
  },
  {
   "cell_type": "code",
   "execution_count": 195,
   "metadata": {
    "collapsed": false
   },
   "outputs": [
    {
     "data": {
      "text/plain": [
       "array([  98.2,   97.9,   98.5,   98. ,   97.9,   98.2,  100.8,   99.4,\n",
       "         97.6,   98.1])"
      ]
     },
     "execution_count": 195,
     "metadata": {},
     "output_type": "execute_result"
    }
   ],
   "source": [
    "replicate_temps = np.random.choice(df['Body temperature (degrees Fahrenheit)'].dropna(), 10)\n",
    "replicate_temps"
   ]
  },
  {
   "cell_type": "code",
   "execution_count": 196,
   "metadata": {
    "collapsed": false
   },
   "outputs": [
    {
     "data": {
      "text/plain": [
       "Ttest_1sampResult(statistic=-0.46369932590675023, pvalue=0.65387342485839695)"
      ]
     },
     "execution_count": 196,
     "metadata": {},
     "output_type": "execute_result"
    }
   ],
   "source": [
    "#Here we are using a 1 sample t-test since we are comparing the mean of this group of people to the known mean 98.6degF\n",
    "stats.ttest_1samp(replicate_temps, 98.6)"
   ]
  },
  {
   "cell_type": "code",
   "execution_count": 197,
   "metadata": {
    "collapsed": false
   },
   "outputs": [
    {
     "data": {
      "text/plain": [
       "0.15456644196891672"
      ]
     },
     "execution_count": 197,
     "metadata": {},
     "output_type": "execute_result"
    }
   ],
   "source": [
    "mean_tentemps = np.mean(replicate_temps)\n",
    "std_tentemps = np.std(replicate_temps)\n",
    "\n",
    "zscoreten = ( 98.6 - mean_tentemps ) / std_tentemps\n",
    "zscoreten"
   ]
  },
  {
   "cell_type": "code",
   "execution_count": 198,
   "metadata": {
    "collapsed": false
   },
   "outputs": [
    {
     "data": {
      "text/plain": [
       "0.43858156371145751"
      ]
     },
     "execution_count": 198,
     "metadata": {},
     "output_type": "execute_result"
    }
   ],
   "source": [
    "probten = 1 - stats.norm.cdf(zscoreten)\n",
    "probten"
   ]
  },
  {
   "cell_type": "markdown",
   "metadata": {},
   "source": [
    "<div class=\"span5 alert alert-success\">\n",
    "A4. The sample size of 10 i.e. < 30 indicates that the t-test be used.\n",
    "<p>A4. According to the 1 sample t-test--> With a p-value of (0.0042147718874694833 ~ 0.004) we can claim that the population mean for the Body Temperatures IS NOT 98.6.  This is because our null hypothesis is that the human body temperature mean is 98.6, but this is being rejected due to the very low p-value gotten from the 1 sample t-test.</p>\n",
    "\n",
    "$$H_0: p_T = 98.6$$\n",
    "$$H_A: p_T \\ne 98.6$$\n",
    "\n",
    "<p>A4. Since the p-value (0.10261337214252908 ~ 0.1) is greater than the significance level (α assumed to be 0.05 for (0.95)95% confidence interval), then the null hypothesis is consistent and cannot be rejected. In other words per the p-value of the zscore the human body temperature mean is 98.6 deg F.</p>\n",
    "$$H_0: p_T = 98.6$$\n",
    "$$H_A: p_T \\ne 98.6$$\n",
    "\n",
    "This shows us that the t-statistic and z-statistic give us opposed results.  \n",
    "The 1 sample t-test gives results i.e. mean human body temperature is not 98.6.\n",
    "The z-statistic is that the mean human body temperature IS 98.6.\n",
    "\n",
    "We notice here that the sample set in this case when small or large gave us the same results of the 2 tests(t-test, z-test). But since we are following different tests for different sample sizes our results are not the same for the 2 sample sizes (130 vs 10).\n",
    "\n",
    "\n",
    "Since for a small sample test we follow t-test we now say that the mean human body temperature IS NOT 98.6."
   ]
  },
  {
   "cell_type": "markdown",
   "metadata": {},
   "source": [
    "<div class=\"span5 alert alert-success\">\n",
    "Q5. At what temperature should we consider someone's temperature to be \"abnormal\"? \n",
    "<p>As in the previous example, try calculating everything using the boostrap approach, as well as the frequentist approach.</p>\n",
    "<p>Start by computing the margin of error and confidence interval. When calculating the confidence interval, keep in mind that you should use the appropriate formula for one draw, and not N draws.</p>"
   ]
  },
  {
   "cell_type": "code",
   "execution_count": 199,
   "metadata": {
    "collapsed": false
   },
   "outputs": [
    {
     "data": {
      "image/png": "[encoded data removed]",
      "text/plain": [
       "<matplotlib.figure.Figure at 0x19cd14984a8>"
      ]
     },
     "metadata": {},
     "output_type": "display_data"
    }
   ],
   "source": [
    "import numpy as np\n",
    "\n",
    "for _ in range(150):\n",
    "    # Generate bootstrap sample: bs_sample\n",
    "    bs_sample = np.random.choice(df['Body temperature (degrees Fahrenheit)'], size=len(df['Body temperature (degrees Fahrenheit)']))\n",
    "\n",
    "    # Compute and plot ECDF from bootstrap sample\n",
    "    x, y = ecdf(bs_sample)\n",
    "    _ = plt.plot(x, y, marker='.', linestyle='none',\n",
    "                 color='gray', alpha=0.1)\n",
    "\n",
    "\n",
    "x_all,y_all = ecdf(df['Body temperature (degrees Fahrenheit)'].dropna())\n",
    "\n",
    "_ = plt.plot(x_all, y_all,'.', color='blue')\n",
    "\n",
    "\n",
    "plt.margins(0.02)\n",
    "_ = plt.xlabel('Body temperature (degrees Fahrenheit)')\n",
    "_ = plt.ylabel('ECDF')\n",
    "\n",
    "plt.legend(('all', 'bootstrap'), loc='lower right')\n",
    "plt.show()"
   ]
  },
  {
   "cell_type": "code",
   "execution_count": 200,
   "metadata": {
    "collapsed": false
   },
   "outputs": [
    {
     "name": "stdout",
     "output_type": "stream",
     "text": [
      "Std Error of the Mean =  0.0627456863227\n",
      "Std Dev of the Bootstrap Replicates using Hacker Statistics =  0.0632707154645\n"
     ]
    },
    {
     "data": {
      "image/png": "[encoded data removed]",
      "text/plain": [
       "<matplotlib.figure.Figure at 0x19cd149bb70>"
      ]
     },
     "metadata": {},
     "output_type": "display_data"
    }
   ],
   "source": [
    "def bootstrap_replicate_1d(data, func):\n",
    "    return func(np.random.choice(data, size=len(data)))\n",
    "\n",
    "def draw_bs_reps(data, func, size=1):\n",
    "    \"\"\"Draw bootstrap replicates.\"\"\"\n",
    "\n",
    "    # Initialize array of replicates: bs_replicates\n",
    "    bs_replicates = np.empty(size)\n",
    "\n",
    "    # Generate replicates\n",
    "    for i in range(size):\n",
    "        bs_replicates[i] = bootstrap_replicate_1d(data, func)\n",
    "\n",
    "    return bs_replicates\n",
    "\n",
    "# Take 10,000 bootstrap replicates of the mean: bs_replicates\n",
    "bs_replicates = draw_bs_reps(df['Body temperature (degrees Fahrenheit)'].dropna(), np.mean, size=10000)\n",
    "\n",
    "# Compute and print SEM\n",
    "sem = np.std(df['Body temperature (degrees Fahrenheit)'].dropna()) / np.sqrt(len(df['Body temperature (degrees Fahrenheit)'].dropna()))\n",
    "print('Std Error of the Mean = ', sem)\n",
    "\n",
    "# Compute and print standard deviation of bootstrap replicates\n",
    "bs_std = np.std(bs_replicates)\n",
    "print('Std Dev of the Bootstrap Replicates using Hacker Statistics = ', bs_std)\n",
    "\n",
    "# Make a histogram of the results\n",
    "_ = plt.hist(bs_replicates, bins=50, normed=True)\n",
    "_ = plt.xlabel('Body temperature (degrees Fahrenheit)')\n",
    "_ = plt.ylabel('PDF')\n",
    "\n",
    "# Show the plot\n",
    "plt.show()\n"
   ]
  },
  {
   "cell_type": "markdown",
   "metadata": {},
   "source": [
    "<div class=\"span5 alert alert-success\">\n",
    "The above distribution is not normal since it has a longer left-tail as seen in the Histogram.\n",
    "\n",
    "<p>A confidence interval gives bounds on the range of parameter values you might expect to get if we repeated our measurements. For named distributions, you can compute them analytically or look them up, but one of the many beautiful properties of the bootstrap method is that you can just take percentiles of your bootstrap replicates to get your confidence interval. Conveniently, you can use the np.percentile() function.</p>"
   ]
  },
  {
   "cell_type": "code",
   "execution_count": 201,
   "metadata": {
    "collapsed": false
   },
   "outputs": [
    {
     "name": "stdout",
     "output_type": "stream",
     "text": [
      "95% Confidence Interval for All Body Temp. = [ 98.13875969  98.3875969 ] degrees Fahrenheit\n"
     ]
    }
   ],
   "source": [
    "print('95% Confidence Interval for All Body Temp. =',np.percentile(bs_replicates,[2.5,97.5]),'degrees Fahrenheit')"
   ]
  },
  {
   "cell_type": "markdown",
   "metadata": {},
   "source": [
    "<div class=\"span5 alert alert-success\">\n",
    "<p>A5. The above Confidence Interval tells us that if the temperatures are below 98.14263566 OR above 98.3875969, they should be considered 'abnormal'.</p>\n",
    "<b>ABNORMAL: Mathematically if t < 98.14263566 degrees Fahrenheit OR t > 98.3875969 degrees Fahrenheit</b>"
   ]
  },
  {
   "cell_type": "markdown",
   "metadata": {},
   "source": [
    "<div class=\"span5 alert alert-success\">\n",
    "Q6. Is there a significant difference between males and females in normal temperature? \n",
    "What testing approach did you use and why? \n",
    "Write a story with your conclusion in the context of the original problem. "
   ]
  },
  {
   "cell_type": "code",
   "execution_count": 202,
   "metadata": {
    "collapsed": false
   },
   "outputs": [
    {
     "name": "stdout",
     "output_type": "stream",
     "text": [
      "Means of Body Temperatures:\n",
      "0      NaN\n",
      "1     96.7\n",
      "2     96.9\n",
      "3     97.0\n",
      "4     97.1\n",
      "5     97.1\n",
      "6     97.1\n",
      "7     97.2\n",
      "8     97.3\n",
      "9     97.4\n",
      "10    97.4\n",
      "11    97.4\n",
      "12    97.4\n",
      "13    97.5\n",
      "14    97.5\n",
      "15    97.6\n",
      "16    97.6\n",
      "17    97.6\n",
      "18    97.7\n",
      "19    97.8\n",
      "20    97.8\n",
      "21    97.8\n",
      "22    97.8\n",
      "23    97.9\n",
      "24    97.9\n",
      "25    98.0\n",
      "26    98.0\n",
      "27    98.0\n",
      "28    98.0\n",
      "29    98.0\n",
      "      ... \n",
      "35    98.2\n",
      "36    98.2\n",
      "37    98.3\n",
      "38    98.3\n",
      "39    98.4\n",
      "40    98.4\n",
      "41    98.4\n",
      "42    98.4\n",
      "43    98.5\n",
      "44    98.5\n",
      "45    98.6\n",
      "46    98.6\n",
      "47    98.6\n",
      "48    98.6\n",
      "49    98.6\n",
      "50    98.6\n",
      "51    98.7\n",
      "52    98.7\n",
      "53    98.8\n",
      "54    98.8\n",
      "55    98.8\n",
      "56    98.9\n",
      "57    99.0\n",
      "58    99.0\n",
      "59    99.0\n",
      "60    99.1\n",
      "61    99.2\n",
      "62    99.3\n",
      "63    99.4\n",
      "64    99.5\n",
      "Name: Body temperature (degrees Fahrenheit), dtype: float64\n",
      "Male Mean Temp = 98.13281250000003\n",
      "Male 98.13281250000003\n",
      "65      96.4\n",
      "66      96.7\n",
      "67      96.8\n",
      "68      97.2\n",
      "69      97.2\n",
      "70      97.4\n",
      "71      97.6\n",
      "72      97.7\n",
      "73      97.7\n",
      "74      97.8\n",
      "75      97.8\n",
      "76      97.8\n",
      "77      97.9\n",
      "78      97.9\n",
      "79      97.9\n",
      "80      98.0\n",
      "81      98.0\n",
      "82      98.0\n",
      "83      98.0\n",
      "84      98.0\n",
      "85      98.1\n",
      "86      98.2\n",
      "87      98.2\n",
      "88      98.2\n",
      "89      98.2\n",
      "90      98.2\n",
      "91      98.2\n",
      "92      98.3\n",
      "93      98.3\n",
      "94      98.3\n",
      "       ...  \n",
      "100     98.5\n",
      "101     98.6\n",
      "102     98.6\n",
      "103     98.6\n",
      "104     98.6\n",
      "105     98.7\n",
      "106     98.7\n",
      "107     98.7\n",
      "108     98.7\n",
      "109     98.7\n",
      "110     98.7\n",
      "111     98.8\n",
      "112     98.8\n",
      "113     98.8\n",
      "114     98.8\n",
      "115     98.8\n",
      "116     98.8\n",
      "117     98.8\n",
      "118     98.9\n",
      "119     99.0\n",
      "120     99.0\n",
      "121     99.1\n",
      "122     99.1\n",
      "123     99.2\n",
      "124     99.2\n",
      "125     99.3\n",
      "126     99.4\n",
      "127     99.9\n",
      "128    100.0\n",
      "129    100.8\n",
      "Name: Body temperature (degrees Fahrenheit), dtype: float64\n",
      "Female Mean Temp = 98.39384615384616\n",
      "Female 98.39384615384616\n"
     ]
    }
   ],
   "source": [
    "groupby_gender = df.groupby('Gender (1 = male, 2 = female)')\n",
    "\n",
    "print('Means of Body Temperatures:')\n",
    "for gender, value in groupby_gender['Body temperature (degrees Fahrenheit)']:\n",
    "    if (gender ==1):\n",
    "        male_t = value\n",
    "        male_mean_temp = value.mean()\n",
    "        print(male_t)\n",
    "        print('Male Mean Temp =', male_mean_temp)\n",
    "        print('Male', value.mean())\n",
    "    else:\n",
    "        female_t = value\n",
    "        print(female_t)\n",
    "        female_mean_temp = value.mean()\n",
    "        print('Female Mean Temp =', female_mean_temp)\n",
    "        print('Female', value.mean())"
   ]
  },
  {
   "cell_type": "code",
   "execution_count": 203,
   "metadata": {
    "collapsed": false
   },
   "outputs": [
    {
     "name": "stderr",
     "output_type": "stream",
     "text": [
      "C:\\Program Files\\Anaconda33\\lib\\site-packages\\pandas\\tools\\plotting.py:3082: FutureWarning: \n",
      "The default value for 'return_type' will change to 'axes' in a future release.\n",
      " To use the future behavior now, set return_type='axes'.\n",
      " To keep the previous behavior and silence this warning, set return_type='dict'.\n",
      "  rot=rot, grid=grid, **kwds)\n"
     ]
    },
    {
     "data": {
      "image/png": "[encoded data removed]",
      "text/plain": [
       "<matplotlib.figure.Figure at 0x19cd124fba8>"
      ]
     },
     "metadata": {},
     "output_type": "display_data"
    }
   ],
   "source": [
    "import matplotlib.pyplot as plt\n",
    "groupby_gender.boxplot(column=['Body temperature (degrees Fahrenheit)'])\n",
    "\n",
    "plt.show()"
   ]
  },
  {
   "cell_type": "markdown",
   "metadata": {},
   "source": [
    "###### A two-sample bootstrap hypothesis test for difference of means"
   ]
  },
  {
   "cell_type": "code",
   "execution_count": 204,
   "metadata": {
    "collapsed": false
   },
   "outputs": [
    {
     "data": {
      "text/plain": [
       "0.26103365384612687"
      ]
     },
     "execution_count": 204,
     "metadata": {},
     "output_type": "execute_result"
    }
   ],
   "source": [
    "# def diff_of_means(data_1, data_2):\n",
    "#     \"\"\"Difference in means of two arrays.\"\"\"\n",
    "\n",
    "#     # The difference of means of data_1, data_2: diff\n",
    "#     diff = np.mean(data_1) - np.mean(data_2)\n",
    "\n",
    "#     return diff\n",
    "\n",
    "# Compute difference of mean impact force from experiment: empirical_diff_means\n",
    "empirical_diff_means = female_mean_temp - male_mean_temp\n",
    "empirical_diff_means"
   ]
  },
  {
   "cell_type": "code",
   "execution_count": 220,
   "metadata": {
    "collapsed": false
   },
   "outputs": [
    {
     "name": "stdout",
     "output_type": "stream",
     "text": [
      "p-value = 0.0057\n"
     ]
    }
   ],
   "source": [
    "# Compute mean of all temps: mean_temp\n",
    "mean_temp = np.mean(df['Body temperature (degrees Fahrenheit)'])\n",
    "# print(mean_temp)\n",
    "# Generate shifted arrays\n",
    "temp_male_shifted = male_t - np.mean(male_t) + mean_temp\n",
    "# print(temp_male_shifted)\n",
    "temp_female_shifted = female_t - np.mean(female_t) + mean_temp\n",
    "# print(temp_female_shifted)\n",
    "# Compute 10,000 bootstrap replicates from shifted arrays\n",
    "bs_replicates_male = draw_bs_reps(temp_male_shifted, np.mean, size=10000)\n",
    "bs_replicates_female = draw_bs_reps(temp_female_shifted, np.mean, size=10000)\n",
    "\n",
    "# Get replicates of difference of means: bs_replicates\n",
    "bs_replicates = bs_replicates_male - bs_replicates_female\n",
    "# print(bs_replicates)\n",
    "# print(len(bs_replicates))\n",
    "# print(bs_replicates >= empirical_diff_means)\n",
    "# Compute and print p-value: p\n",
    "p = np.sum(bs_replicates >= empirical_diff_means) / len(bs_replicates)\n",
    "print('p-value =', p)"
   ]
  },
  {
   "cell_type": "markdown",
   "metadata": {},
   "source": [
    "<div class=\"span5 alert alert-success\">\n",
    "A6 There a significant difference between males and females in normal temperature.\n",
    "\n",
    "$$H_0: T_M = T_W$$\n",
    "$$H_A: T_M \\ne T_W$$\n",
    "p value is 0 (low i.e. < 0.05) indicating that the null hypothesis that states that the 2 sets are equal is refuted and there is a difference in the normal termperatures of men vs women.  The testing approach I used is the 2 sample bootstrap approach to check the difference in means since that gave me enough samples i.e. 10000 to test by bootstrapping both sample sets of male and female body temperatures."
   ]
  },
  {
   "cell_type": "markdown",
   "metadata": {},
   "source": [
    "###### Frequentist Method"
   ]
  },
  {
   "cell_type": "markdown",
   "metadata": {},
   "source": [
    "Formula: z = mu_M - mu_F - H_diff/ (sqrt((sigma_M ** 2)/n_M + (sigma_F ** 2)/n_F))"
   ]
  },
  {
   "cell_type": "code",
   "execution_count": 215,
   "metadata": {
    "collapsed": false
   },
   "outputs": [
    {
     "name": "stdout",
     "output_type": "stream",
     "text": [
      "65\n",
      "65\n",
      "96.62307692307695\n",
      "98.39384615384616\n",
      "-1.7707692307692042\n",
      "0.6607416967648929\n",
      "0.7377464486428964\n",
      "Z score: -14.415093948849593\n",
      "P-value: 1.0\n"
     ]
    }
   ],
   "source": [
    "m = male_t\n",
    "f = female_t\n",
    "# print(m)\n",
    "# print(f)\n",
    "\n",
    "n_m = len(m)\n",
    "n_f = len(f)\n",
    "print(n_m)\n",
    "print(n_m)\n",
    "\n",
    "prop_m = np.sum(m) / len(m)\n",
    "prop_f = np.sum(f) / len(f)\n",
    "print(prop_m)\n",
    "print(prop_f)\n",
    "\n",
    "prop_diff = prop_m - prop_f\n",
    "\n",
    "print(prop_diff)\n",
    "\n",
    "\n",
    "print(np.std(m))\n",
    "print(np.std(f))\n",
    "\n",
    "z = prop_diff / (np.sqrt((np.std(m)**2 /n_m) + (np.std(f)**2 /n_f)))\n",
    "\n",
    "pval =  1 - stats.norm.cdf(z) \n",
    "print(\"Z score: {}\".format(z))\n",
    "print(\"P-value: {}\".format(pval))"
   ]
  },
  {
   "cell_type": "code",
   "execution_count": 219,
   "metadata": {
    "collapsed": false
   },
   "outputs": [
    {
     "data": {
      "text/plain": [
       "Ttest_indResult(statistic=-2.0993478793430027, pvalue=0.037765811437034807)"
      ]
     },
     "execution_count": 219,
     "metadata": {},
     "output_type": "execute_result"
    }
   ],
   "source": [
    "stats.ttest_ind(m, f, nan_policy='omit')"
   ]
  },
  {
   "cell_type": "markdown",
   "metadata": {},
   "source": [
    "<div class=\"span5 alert alert-success\">\n",
    "A6. Since p-value < 0.05 we can safely reject the null hypothesis that the 2 averages (male and female) are equal."
   ]
  },
  {
   "cell_type": "code",
   "execution_count": 217,
   "metadata": {
    "collapsed": false
   },
   "outputs": [
    {
     "data": {
      "text/plain": [
       "Ks_2sampResult(statistic=0.16923076923076924, pvalue=0.28271242968792715)"
      ]
     },
     "execution_count": 217,
     "metadata": {},
     "output_type": "execute_result"
    }
   ],
   "source": [
    "stats.ks_2samp(m, f)"
   ]
  },
  {
   "cell_type": "code",
   "execution_count": 216,
   "metadata": {
    "collapsed": false
   },
   "outputs": [
    {
     "name": "stdout",
     "output_type": "stream",
     "text": [
      "Margin of Error: nan\n",
      "Confidence interval: [ nan  nan]\n"
     ]
    }
   ],
   "source": [
    "moe = 1.96 * np.sqrt(phat * (1 - phat) * ((1 / n_m) + (1 / n_f)))\n",
    "ci = prop_diff + np.array([-1, 1]) * moe\n",
    "print(\"Margin of Error: {}\".format(moe))\n",
    "print(\"Confidence interval: {}\".format(ci))"
   ]
  }
 ],
 "metadata": {
  "anaconda-cloud": {},
  "kernelspec": {
   "display_name": "Python [default]",
   "language": "python",
   "name": "python3"
  },
  "language_info": {
   "codemirror_mode": {
    "name": "ipython",
    "version": 3
   },
   "file_extension": ".py",
   "mimetype": "text/x-python",
   "name": "python",
   "nbconvert_exporter": "python",
   "pygments_lexer": "ipython3",
   "version": "3.5.4"
  }
 },
 "nbformat": 4,
 "nbformat_minor": 1
}

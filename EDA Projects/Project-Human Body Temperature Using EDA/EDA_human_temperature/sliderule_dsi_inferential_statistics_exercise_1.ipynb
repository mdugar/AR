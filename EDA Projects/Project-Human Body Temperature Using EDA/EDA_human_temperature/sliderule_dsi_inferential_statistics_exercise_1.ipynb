{
 "cells": [
  {
   "cell_type": "markdown",
   "metadata": {},
   "source": [
    "# What is the True Normal Human Body Temperature? \n",
    "\n",
    "#### Background\n",
    "\n",
    "The mean normal body temperature was held to be 37$^{\\circ}$C or 98.6$^{\\circ}$F for more than 120 years since it was first conceptualized and reported by Carl Wunderlich in a famous 1868 book. But, is this value statistically correct?"
   ]
  },
  {
   "cell_type": "markdown",
   "metadata": {},
   "source": [
    "<h3>Exercises</h3>\n",
    "\n",
    "<p>In this exercise, you will analyze a dataset of human body temperatures and employ the concepts of hypothesis testing, confidence intervals, and statistical significance.</p>\n",
    "\n",
    "<p>Answer the following questions <b>in this notebook below and submit to your Github account</b>.</p> \n",
    "\n",
    "<ol>\n",
    "<li>  Is the distribution of body temperatures normal? \n",
    "    <ul>\n",
    "    <li> Although this is not a requirement for the Central Limit Theorem to hold (read the introduction on Wikipedia's page about the CLT carefully: https://en.wikipedia.org/wiki/Central_limit_theorem), it gives us some peace of mind that the population may also be normally distributed if we assume that this sample is representative of the population.\n",
    "    <li> Think about the way you're going to check for the normality of the distribution. Graphical methods are usually used first, but there are also other ways: https://en.wikipedia.org/wiki/Normality_test\n",
    "    </ul>\n",
    "<li>  Is the sample size large? Are the observations independent?\n",
    "    <ul>\n",
    "    <li> Remember that this is a condition for the Central Limit Theorem, and hence the statistical tests we are using, to apply.\n",
    "    </ul>\n",
    "<li>  Is the true population mean really 98.6 degrees F?\n",
    "    <ul>\n",
    "    <li> First, try a bootstrap hypothesis test.\n",
    "    <li> Now, let's try frequentist statistical testing. Would you use a one-sample or two-sample test? Why?\n",
    "    <li> In this situation, is it appropriate to use the $t$ or $z$ statistic? \n",
    "    <li> Now try using the other test. How is the result be different? Why?\n",
    "    </ul>\n",
    "<li>  Draw a small sample of size 10 from the data and repeat both frequentist tests. \n",
    "    <ul>\n",
    "    <li> Which one is the correct one to use? \n",
    "    <li> What do you notice? What does this tell you about the difference in application of the $t$ and $z$ statistic?\n",
    "    </ul>\n",
    "<li>  At what temperature should we consider someone's temperature to be \"abnormal\"?\n",
    "    <ul>\n",
    "    <li> As in the previous example, try calculating everything using the boostrap approach, as well as the frequentist approach.\n",
    "    <li> Start by computing the margin of error and confidence interval. When calculating the confidence interval, keep in mind that you should use the appropriate formula for one draw, and not N draws.\n",
    "    </ul>\n",
    "<li>  Is there a significant difference between males and females in normal temperature?\n",
    "    <ul>\n",
    "    <li> What testing approach did you use and why?\n",
    "    <li> Write a story with your conclusion in the context of the original problem.\n",
    "    </ul>\n",
    "</ol>\n",
    "\n",
    "You can include written notes in notebook cells using Markdown: \n",
    "   - In the control panel at the top, choose Cell > Cell Type > Markdown\n",
    "   - Markdown syntax: http://nestacms.com/docs/creating-content/markdown-cheat-sheet\n",
    "\n",
    "#### Resources\n",
    "\n",
    "+ Information and data sources: http://www.amstat.org/publications/jse/datasets/normtemp.txt, http://www.amstat.org/publications/jse/jse_data_archive.htm\n",
    "+ Markdown syntax: http://nestacms.com/docs/creating-content/markdown-cheat-sheet\n",
    "\n",
    "****"
   ]
  },
  {
   "cell_type": "code",
   "execution_count": 26,
   "metadata": {
    "collapsed": false
   },
   "outputs": [],
   "source": [
    "import pandas as pd\n",
    "\n",
    "df = pd.read_csv('data/human_body_temperature.csv',header=None, names=['Body temperature (degrees Fahrenheit)', 'Gender (1 = male, 2 = female)', 'Heart rate (beats per minute)'])"
   ]
  },
  {
   "cell_type": "code",
   "execution_count": 27,
   "metadata": {
    "collapsed": false
   },
   "outputs": [
    {
     "data": {
      "text/html": [
       "<div>\n",
       "<table border=\"1\" class=\"dataframe\">\n",
       "  <thead>\n",
       "    <tr style=\"text-align: right;\">\n",
       "      <th></th>\n",
       "      <th>Body temperature (degrees Fahrenheit)</th>\n",
       "      <th>Gender (1 = male, 2 = female)</th>\n",
       "      <th>Heart rate (beats per minute)</th>\n",
       "    </tr>\n",
       "  </thead>\n",
       "  <tbody>\n",
       "    <tr>\n",
       "      <th>0</th>\n",
       "      <td>﻿96.3</td>\n",
       "      <td>1</td>\n",
       "      <td>70</td>\n",
       "    </tr>\n",
       "    <tr>\n",
       "      <th>1</th>\n",
       "      <td>96.7</td>\n",
       "      <td>1</td>\n",
       "      <td>71</td>\n",
       "    </tr>\n",
       "    <tr>\n",
       "      <th>2</th>\n",
       "      <td>96.9</td>\n",
       "      <td>1</td>\n",
       "      <td>74</td>\n",
       "    </tr>\n",
       "    <tr>\n",
       "      <th>3</th>\n",
       "      <td>97</td>\n",
       "      <td>1</td>\n",
       "      <td>80</td>\n",
       "    </tr>\n",
       "    <tr>\n",
       "      <th>4</th>\n",
       "      <td>97.1</td>\n",
       "      <td>1</td>\n",
       "      <td>73</td>\n",
       "    </tr>\n",
       "  </tbody>\n",
       "</table>\n",
       "</div>"
      ],
      "text/plain": [
       "  Body temperature (degrees Fahrenheit)  Gender (1 = male, 2 = female)  \\\n",
       "0                                 ﻿96.3                              1   \n",
       "1                                  96.7                              1   \n",
       "2                                  96.9                              1   \n",
       "3                                    97                              1   \n",
       "4                                  97.1                              1   \n",
       "\n",
       "   Heart rate (beats per minute)  \n",
       "0                             70  \n",
       "1                             71  \n",
       "2                             74  \n",
       "3                             80  \n",
       "4                             73  "
      ]
     },
     "execution_count": 27,
     "metadata": {},
     "output_type": "execute_result"
    }
   ],
   "source": [
    "# Your work here.\n",
    "df.head()"
   ]
  },
  {
   "cell_type": "code",
   "execution_count": 28,
   "metadata": {
    "collapsed": false
   },
   "outputs": [
    {
     "name": "stdout",
     "output_type": "stream",
     "text": [
      "<class 'pandas.core.frame.DataFrame'>\n",
      "RangeIndex: 130 entries, 0 to 129\n",
      "Data columns (total 3 columns):\n",
      "Body temperature (degrees Fahrenheit)    130 non-null object\n",
      "Gender (1 = male, 2 = female)            130 non-null int64\n",
      "Heart rate (beats per minute)            130 non-null int64\n",
      "dtypes: int64(2), object(1)\n",
      "memory usage: 3.1+ KB\n"
     ]
    }
   ],
   "source": [
    "df.info()"
   ]
  },
  {
   "cell_type": "code",
   "execution_count": 29,
   "metadata": {
    "collapsed": false
   },
   "outputs": [
    {
     "data": {
      "text/html": [
       "<div>\n",
       "<table border=\"1\" class=\"dataframe\">\n",
       "  <thead>\n",
       "    <tr style=\"text-align: right;\">\n",
       "      <th></th>\n",
       "      <th>Gender (1 = male, 2 = female)</th>\n",
       "      <th>Heart rate (beats per minute)</th>\n",
       "    </tr>\n",
       "  </thead>\n",
       "  <tbody>\n",
       "    <tr>\n",
       "      <th>count</th>\n",
       "      <td>130.000000</td>\n",
       "      <td>130.000000</td>\n",
       "    </tr>\n",
       "    <tr>\n",
       "      <th>mean</th>\n",
       "      <td>1.500000</td>\n",
       "      <td>73.761538</td>\n",
       "    </tr>\n",
       "    <tr>\n",
       "      <th>std</th>\n",
       "      <td>0.501934</td>\n",
       "      <td>7.062077</td>\n",
       "    </tr>\n",
       "    <tr>\n",
       "      <th>min</th>\n",
       "      <td>1.000000</td>\n",
       "      <td>57.000000</td>\n",
       "    </tr>\n",
       "    <tr>\n",
       "      <th>25%</th>\n",
       "      <td>1.000000</td>\n",
       "      <td>69.000000</td>\n",
       "    </tr>\n",
       "    <tr>\n",
       "      <th>50%</th>\n",
       "      <td>1.500000</td>\n",
       "      <td>74.000000</td>\n",
       "    </tr>\n",
       "    <tr>\n",
       "      <th>75%</th>\n",
       "      <td>2.000000</td>\n",
       "      <td>79.000000</td>\n",
       "    </tr>\n",
       "    <tr>\n",
       "      <th>max</th>\n",
       "      <td>2.000000</td>\n",
       "      <td>89.000000</td>\n",
       "    </tr>\n",
       "  </tbody>\n",
       "</table>\n",
       "</div>"
      ],
      "text/plain": [
       "       Gender (1 = male, 2 = female)  Heart rate (beats per minute)\n",
       "count                     130.000000                     130.000000\n",
       "mean                        1.500000                      73.761538\n",
       "std                         0.501934                       7.062077\n",
       "min                         1.000000                      57.000000\n",
       "25%                         1.000000                      69.000000\n",
       "50%                         1.500000                      74.000000\n",
       "75%                         2.000000                      79.000000\n",
       "max                         2.000000                      89.000000"
      ]
     },
     "execution_count": 29,
     "metadata": {},
     "output_type": "execute_result"
    }
   ],
   "source": [
    "df.describe()"
   ]
  },
  {
   "cell_type": "code",
   "execution_count": 30,
   "metadata": {
    "collapsed": false
   },
   "outputs": [
    {
     "name": "stderr",
     "output_type": "stream",
     "text": [
      "C:\\Program Files\\Anaconda33\\lib\\site-packages\\ipykernel\\__main__.py:1: FutureWarning: convert_objects is deprecated.  Use the data-type specific converters pd.to_datetime, pd.to_timedelta and pd.to_numeric.\n",
      "  if __name__ == '__main__':\n"
     ]
    }
   ],
   "source": [
    "df['Body temperature (degrees Fahrenheit)']= df['Body temperature (degrees Fahrenheit)'].convert_objects(convert_numeric=True)"
   ]
  },
  {
   "cell_type": "code",
   "execution_count": 31,
   "metadata": {
    "collapsed": false
   },
   "outputs": [
    {
     "data": {
      "text/plain": [
       "0        NaN\n",
       "1       96.7\n",
       "2       96.9\n",
       "3       97.0\n",
       "4       97.1\n",
       "5       97.1\n",
       "6       97.1\n",
       "7       97.2\n",
       "8       97.3\n",
       "9       97.4\n",
       "10      97.4\n",
       "11      97.4\n",
       "12      97.4\n",
       "13      97.5\n",
       "14      97.5\n",
       "15      97.6\n",
       "16      97.6\n",
       "17      97.6\n",
       "18      97.7\n",
       "19      97.8\n",
       "20      97.8\n",
       "21      97.8\n",
       "22      97.8\n",
       "23      97.9\n",
       "24      97.9\n",
       "25      98.0\n",
       "26      98.0\n",
       "27      98.0\n",
       "28      98.0\n",
       "29      98.0\n",
       "       ...  \n",
       "100     98.5\n",
       "101     98.6\n",
       "102     98.6\n",
       "103     98.6\n",
       "104     98.6\n",
       "105     98.7\n",
       "106     98.7\n",
       "107     98.7\n",
       "108     98.7\n",
       "109     98.7\n",
       "110     98.7\n",
       "111     98.8\n",
       "112     98.8\n",
       "113     98.8\n",
       "114     98.8\n",
       "115     98.8\n",
       "116     98.8\n",
       "117     98.8\n",
       "118     98.9\n",
       "119     99.0\n",
       "120     99.0\n",
       "121     99.1\n",
       "122     99.1\n",
       "123     99.2\n",
       "124     99.2\n",
       "125     99.3\n",
       "126     99.4\n",
       "127     99.9\n",
       "128    100.0\n",
       "129    100.8\n",
       "Name: Body temperature (degrees Fahrenheit), dtype: float64"
      ]
     },
     "execution_count": 31,
     "metadata": {},
     "output_type": "execute_result"
    }
   ],
   "source": [
    "df['Body temperature (degrees Fahrenheit)'] "
   ]
  },
  {
   "cell_type": "code",
   "execution_count": 32,
   "metadata": {
    "collapsed": false
   },
   "outputs": [
    {
     "data": {
      "text/plain": [
       "(130, 3)"
      ]
     },
     "execution_count": 32,
     "metadata": {},
     "output_type": "execute_result"
    }
   ],
   "source": [
    "df.shape"
   ]
  },
  {
   "cell_type": "code",
   "execution_count": 33,
   "metadata": {
    "collapsed": false
   },
   "outputs": [
    {
     "data": {
      "image/png": "[encoded data removed]",
      "text/plain": [
       "<matplotlib.figure.Figure at 0x19cbda59ac8>"
      ]
     },
     "metadata": {},
     "output_type": "display_data"
    }
   ],
   "source": [
    "import matplotlib.pyplot as plt\n",
    "import seaborn as sns\n",
    "\n",
    "\n",
    "# Set default Seaborn style\n",
    "sns.style = sns.set()\n",
    "\n",
    "bin_edges = [96, 96.5, 97, 97.5, 98, 98.5, 99, 99.5, 100, 100.5, 101]\n",
    "\n",
    "\n",
    "_ = plt.hist(df['Body temperature (degrees Fahrenheit)'].dropna(), bins = bin_edges)\n",
    "\n",
    "_ = plt.xlabel('Body temperature (degrees Fahrenheit)')\n",
    "_ = plt.ylabel('number of people')\n",
    "_ = plt.title('Finding Avg Human Body temperatures')\n",
    "plt.show()"
   ]
  },
  {
   "cell_type": "code",
   "execution_count": 34,
   "metadata": {
    "collapsed": true
   },
   "outputs": [],
   "source": [
    "def ecdf(data):\n",
    "    \"\"\"Compute ECDF for a one-dimensional array of measurements.\"\"\"\n",
    "\n",
    "    # Number of data points: n\n",
    "    n = len(data)\n",
    "\n",
    "    # x-data for the ECDF: x\n",
    "\n",
    "    x = np.sort(data)\n",
    "\n",
    "    # y-data for the ECDF: y\n",
    "    y = np.arange(1, n+1) / n\n",
    "\n",
    "    return x, y"
   ]
  },
  {
   "cell_type": "code",
   "execution_count": 92,
   "metadata": {
    "collapsed": false
   },
   "outputs": [],
   "source": [
    "male_temps = [x for x in df['Body temperature (degrees Fahrenheit)'].dropna() for y in df['Gender (1 = male, 2 = female)']==1]"
   ]
  },
  {
   "cell_type": "code",
   "execution_count": 93,
   "metadata": {
    "collapsed": true
   },
   "outputs": [],
   "source": [
    "female_temps = [x for x in df['Body temperature (degrees Fahrenheit)'].dropna() for y in df['Gender (1 = male, 2 = female)']==2]"
   ]
  },
  {
   "cell_type": "code",
   "execution_count": 37,
   "metadata": {
    "collapsed": false
   },
   "outputs": [
    {
     "data": {
      "image/png": "[encoded data removed]",
      "text/plain": [
       "<matplotlib.figure.Figure at 0x19cbda62080>"
      ]
     },
     "metadata": {},
     "output_type": "display_data"
    }
   ],
   "source": [
    "import numpy as np\n",
    "\n",
    "x_all,y_all = ecdf(df['Body temperature (degrees Fahrenheit)'].dropna())\n",
    "\n",
    "x_male,y_male = ecdf(male_temps)\n",
    "\n",
    "x_female,y_female = ecdf(female_temps)\n",
    "\n",
    "\n",
    "_ = plt.plot(x_all, y_all, marker ='.', linestyle='none', color='green')\n",
    "# _ = plt.plot(x_male,y_male, marker ='.', linestyle='none', color = 'blue')\n",
    "# _ = plt.plot(x_female,y_female, marker ='.', linestyle='none', color = 'red')\n",
    "\n",
    "_ = plt.xlabel('Body temperature (degrees Fahrenheit)')\n",
    "\n",
    "_ = plt.ylabel('ECDF')\n",
    "\n",
    "plt.margins(0.02)\n",
    "\n",
    "plt.legend(('all', 'male', 'female'), loc='lower right')\n",
    "plt.show()"
   ]
  },
  {
   "cell_type": "code",
   "execution_count": 38,
   "metadata": {
    "collapsed": false
   },
   "outputs": [
    {
     "data": {
      "image/png": "[encoded data removed]",
      "text/plain": [
       "<matplotlib.figure.Figure at 0x19cbdac38d0>"
      ]
     },
     "metadata": {},
     "output_type": "display_data"
    }
   ],
   "source": [
    "# Create bee swarm plot with Seaborn's default settings\n",
    "_ = sns.swarmplot(x='Gender (1 = male, 2 = female)', y='Body temperature (degrees Fahrenheit)', data=df)\n",
    "\n",
    "# Label the axes\n",
    "_ = plt.xlabel('Gender(1 = male, 2 = female)')\n",
    "_ = plt.ylabel('Body temperature (degrees Fahrenheit)')\n",
    "\n",
    "# Show the plot\n",
    "plt.show()"
   ]
  },
  {
   "cell_type": "markdown",
   "metadata": {},
   "source": [
    "###### \n",
    "###### Q1. Is the distribution of body temperatures normal? \n",
    "###### A1. Diagram below shows that the distribution of the Body temps is normal as the actual data plot follows very cosely to the ecdf (samples based on mu and sigma) plot.   Additionally per the histogram the above distribution is also normal since it is equally distributed around the center."
   ]
  },
  {
   "cell_type": "code",
   "execution_count": 39,
   "metadata": {
    "collapsed": false
   },
   "outputs": [
    {
     "data": {
      "image/png": "[encoded data removed]",
      "text/plain": [
       "<matplotlib.figure.Figure at 0x19cbdafd6d8>"
      ]
     },
     "metadata": {},
     "output_type": "display_data"
    }
   ],
   "source": [
    "# Compute mean and standard deviation: mu, sigma\n",
    "\n",
    "mu = np.mean(df['Body temperature (degrees Fahrenheit)'])\n",
    "sigma = np.std(df['Body temperature (degrees Fahrenheit)'])\n",
    "\n",
    "# Sample out of a normal distribution with this mu and sigma: samples\n",
    "samples = np.random.normal(mu, sigma, size=130)\n",
    "\n",
    "# Get the CDF of the samples and of the data\n",
    "x_theor, y_theor = ecdf(samples)\n",
    "x, y = ecdf(df['Body temperature (degrees Fahrenheit)'])\n",
    "\n",
    "# Plot the CDFs and show the plot\n",
    "_ = plt.plot(x_theor, y_theor)\n",
    "_ = plt.plot(x, y, marker='.', linestyle='none')\n",
    "plt.margins(0.02)\n",
    "_ = plt.xlabel('Body temperature (degrees Fahrenheit)')\n",
    "_ = plt.ylabel('CDF')\n",
    "plt.show()"
   ]
  },
  {
   "cell_type": "markdown",
   "metadata": {},
   "source": [
    "###### \n",
    "###### Q2. Is the sample size large? Are the observations independent?\n",
    "###### A2. So per the CLT (Central Limit Theorem) if the sample size is >30 which here we have taken a 130 count sample size and this should be good to prove that the data is normally distributed.The observations in each sample are assumed to be independent since the sample was drawn randomly."
   ]
  },
  {
   "cell_type": "markdown",
   "metadata": {},
   "source": [
    "###### Conditions for CLT:\n",
    "\n",
    "<h3>Independence</h3>\n",
    "    <p>\n",
    "    The sampled obervsations must be independent\n",
    "    random sampling should be done.\n",
    "    If sampling without replacement, the sample should be less than 10% of the population.\n",
    "    </p>\n",
    "<h3>Sample skew</h3>\n",
    "    <p>\n",
    "    The population distribution should be normal\n",
    "    But if the distribution is skewed, the sample must be large (greater than 30)</p>\n",
    "    "
   ]
  },
  {
   "cell_type": "markdown",
   "metadata": {},
   "source": [
    "###### \n",
    "###### Q3.Is the true population mean really 98.6 degrees F?\n",
    "###### A3.  See Below"
   ]
  },
  {
   "cell_type": "code",
   "execution_count": 40,
   "metadata": {
    "collapsed": false
   },
   "outputs": [
    {
     "data": {
      "text/plain": [
       "98.264341085271312"
      ]
     },
     "execution_count": 40,
     "metadata": {},
     "output_type": "execute_result"
    }
   ],
   "source": [
    "np.mean(male_temps)"
   ]
  },
  {
   "cell_type": "code",
   "execution_count": 41,
   "metadata": {
    "collapsed": false
   },
   "outputs": [
    {
     "data": {
      "text/plain": [
       "98.264341085271312"
      ]
     },
     "execution_count": 41,
     "metadata": {},
     "output_type": "execute_result"
    }
   ],
   "source": [
    "np.mean(female_temps)"
   ]
  },
  {
   "cell_type": "code",
   "execution_count": 42,
   "metadata": {
    "collapsed": false
   },
   "outputs": [
    {
     "data": {
      "text/plain": [
       "98.26434108527133"
      ]
     },
     "execution_count": 42,
     "metadata": {},
     "output_type": "execute_result"
    }
   ],
   "source": [
    "np.mean(df['Body temperature (degrees Fahrenheit)'].dropna())"
   ]
  },
  {
   "cell_type": "code",
   "execution_count": 43,
   "metadata": {
    "collapsed": false
   },
   "outputs": [
    {
     "data": {
      "text/plain": [
       "98.26434108527133"
      ]
     },
     "execution_count": 43,
     "metadata": {},
     "output_type": "execute_result"
    }
   ],
   "source": [
    "np.mean(df['Body temperature (degrees Fahrenheit)'])"
   ]
  },
  {
   "cell_type": "markdown",
   "metadata": {},
   "source": [
    "###### A one-sample bootstrap hypothesis test"
   ]
  },
  {
   "cell_type": "code",
   "execution_count": 44,
   "metadata": {
    "collapsed": true
   },
   "outputs": [],
   "source": [
    "def bootstrap_replicate_1d(data, func):\n",
    "    return func(np.random.choice(data, size=len(data)))"
   ]
  },
  {
   "cell_type": "code",
   "execution_count": 45,
   "metadata": {
    "collapsed": true
   },
   "outputs": [],
   "source": [
    "def draw_bs_reps(data, func, size=1):\n",
    "    \"\"\"Draw bootstrap replicates.\"\"\"\n",
    "\n",
    "    # Initialize array of replicates: bs_replicates\n",
    "    bs_replicates = np.empty(size)\n",
    "\n",
    "    # Generate replicates\n",
    "    for i in range(size):\n",
    "        bs_replicates[i] = bootstrap_replicate_1d(data, func)\n",
    "\n",
    "    return bs_replicates"
   ]
  },
  {
   "cell_type": "code",
   "execution_count": 60,
   "metadata": {
    "collapsed": false
   },
   "outputs": [
    {
     "name": "stdout",
     "output_type": "stream",
     "text": [
      "p =  0.0\n"
     ]
    }
   ],
   "source": [
    "# Make an array of translated temperatures: translated_temp\n",
    "translated_temp = df['Body temperature (degrees Fahrenheit)'].dropna() - np.mean(df['Body temperature (degrees Fahrenheit)']) + 98.6\n",
    "\n",
    "# Take bootstrap replicates of translated temperatures: bs_replicates\n",
    "bs_replicates = draw_bs_reps(translated_temp, np.mean, 10000)\n",
    "\n",
    "# Compute fraction of replicates that are less than the observed population temperatures: p\n",
    "p = np.sum(bs_replicates <= np.mean(df['Body temperature (degrees Fahrenheit)'].dropna())) / 10000\n",
    "\n",
    "# Print the p-value\n",
    "print('p = ', p)"
   ]
  },
  {
   "cell_type": "markdown",
   "metadata": {},
   "source": [
    "###### Q3.Is the true population mean really 98.6 degrees F?\n",
    "###### A3. \n",
    "<li> H-null: The mean human body temperature <b>IS</b> 98.6 deg F.\n",
    "<li> H-alt:  The mean human body temperature <b>IS NOT</b> 98.6 deg F.\n",
    "\n",
    "$$H_0: p_T = 98.6$$\n",
    "$$H_A: p_T \\ne 98.6$$\n",
    "\n",
    "\n",
    "<li> According to the one-sample bootstrap test --> With p=0 we can easily reject the null hypothesis that the mean is  98.6 and safely say that the probablitiy that the mean of the population <b>IS NOT</b> 98.6."
   ]
  },
  {
   "cell_type": "markdown",
   "metadata": {},
   "source": [
    "###### A one-sample t-test hypothesis testing: Tests the mean of a single group against a known mean"
   ]
  },
  {
   "cell_type": "markdown",
   "metadata": {},
   "source": [
    "<div><h3>What are T-Values and P-values?</h3>\n",
    "How big is “big enough”? Every t-value has a p-value to go with it. A p-value is the probability that the results from your sample data occurred by chance. P-values are from 0% to 100%. They are usually written as a decimal. For example, a p value of 5% is 0.05. Low p-values are good; They indicate your data did not occur by chance. For example, a p-value of .01 means there is only a 1% probability that the results from an experiment happened by chance. In most cases, a p-value of 0.05 (5%) is accepted to mean the data is valid.\n",
    "<ol>\n",
    "Types of t-tests?\n",
    "There are three main types of t-test:\n",
    "<li> An Independent Samples t-test compares the means for two groups.\n",
    "<li> A Paired sample t-test compares means from the same group at different times (say, one year apart).\n",
    "<li> A One sample t-test tests the mean of a single group against a known mean.</div>"
   ]
  },
  {
   "cell_type": "code",
   "execution_count": 47,
   "metadata": {
    "collapsed": true
   },
   "outputs": [],
   "source": [
    "from scipy import stats"
   ]
  },
  {
   "cell_type": "code",
   "execution_count": 48,
   "metadata": {
    "collapsed": false
   },
   "outputs": [
    {
     "data": {
      "text/plain": [
       "-5.3702083190522494"
      ]
     },
     "execution_count": 48,
     "metadata": {},
     "output_type": "execute_result"
    }
   ],
   "source": [
    "#t = (sample mean - proposed mean)/ (sample std. dev / sqrt(sample size))\n",
    "\n",
    "tstat =  (np.mean(df['Body temperature (degrees Fahrenheit)'].dropna()) - 98.6)/ (np.std(df['Body temperature (degrees Fahrenheit)'].dropna()) / np.sqrt(130))\n",
    "\n",
    "tstat\n"
   ]
  },
  {
   "cell_type": "code",
   "execution_count": 49,
   "metadata": {
    "collapsed": false
   },
   "outputs": [
    {
     "data": {
      "text/plain": [
       "Ttest_1sampResult(statistic=-5.3287389083394645, pvalue=4.3163551169933178e-07)"
      ]
     },
     "execution_count": 49,
     "metadata": {},
     "output_type": "execute_result"
    }
   ],
   "source": [
    "#Here we are using a 1 sample t-test since we are comparing the mean of this group of people to the known mean 98.6degF\n",
    "stats.ttest_1samp(df['Body temperature (degrees Fahrenheit)'].dropna(), 98.6)  "
   ]
  },
  {
   "cell_type": "markdown",
   "metadata": {},
   "source": [
    "###### Q3.Is the true population mean really 98.6 degrees F?\n",
    "###### A3. According to the 1 sample t-test--> With a p-value of 10^-7 we can claim that the population mean for the Body Temperatures IS NOT 98.6.  This is because our null hypothesis is that the human body temperature mean is 98.6, but this is being rejected due to the very low p-value gotten from the 1 sample t-test.\n",
    "\n",
    "$$H_0: p_T = 98.6$$\n",
    "$$H_A: p_T \\ne 98.6$$\n",
    "\n",
    "###### Q3 let's try frequentist statistical testing. Would you use a one-sample or two-sample test? Why? \n",
    "###### A3 Here we are using a 1 sample t-test since we are comparing the mean of this group of people to the known mean 98.6deg.F.  A 2 sample test would be used if we were comparing male and female body temperatures i.e. 2 distinct samples.\n"
   ]
  },
  {
   "cell_type": "markdown",
   "metadata": {},
   "source": [
    "<div>\n",
    "We use these tests for different reasons and under different circumstances.\n",
    "<ul>\n",
    "<li>z-test. A z-test assumes that our observations are independently drawn from a Normal distribution with unknown mean and known variance. A z-test is used primarily when we have quantitative data. (i.e. weights of rodents, ages of individuals, systolic blood pressure, etc.) However, z-tests can also be used when interested in proportions. (i.e. the proportion of people who get at least eight hours of sleep, etc.)\n",
    "\n",
    "<li>t-test. A t-test assumes that our observations are independently drawn from a Normal distribution with unknown mean and unknown variance. Note that with a t-test, we do not know the population variance. This is far more common than knowing the population variance, so a t-test is generally more appropriate than a z-test, but practically there will be little difference between the two if sample sizes are large.\n",
    "\n",
    "With z- and t-tests, your alternative hypothesis will be that your population mean (or population proportion) of one group is either not equal, less than, or greater than the population mean (or proportion) or the other group. This will depend on the type of analysis you seek to do, but your null and alternative hypotheses directly compare the means/proportions from the two groups.\n",
    "\n",
    "<li>Chi-squared test. Whereas z- and t-tests concern quantitative data (or proportions in the case of z), chi-squared tests are appropriate for qualitative data. Again, the assumption is that observations are independent of one another. In this case, you aren't seeking a particular relationship. Your null hypothesis is that no relationship exists between variable one and variable two. Your alternative hypothesis is that a relationship does exist. This doesn't give you specifics as to how this relationship exists (i.e. In which direction does the relationship go) but it will provide evidence that a relationship does (or does not) exist between your independent variable and your groups.\n",
    "\n",
    "<li>Fisher's exact test. One drawback to the chi-squared test is that it is asymptotic. This means that the p-value is accurate for very large sample sizes. However, if your sample sizes are small, then the p-value may not be quite accurate. As such, Fisher's exact test allows you to exactly calculate the p-value of your data and not rely on approximations that will be poor if your sample sizes are small.\n",
    "\n",
    "I keep discussing sample sizes - different references will give you different metrics as to when your samples are large enough. I would just find a reputable source, look at their rule, and apply their rule to find the test you want. I would not \"shop around,\" so to speak, until you find a rule that you \"like.\"\n",
    "\n",
    "Ultimately, the test you choose should be based on a) your sample size and b) what form you want your hypotheses to take. If you are looking for a specific effect from your A/B test (for example, my B group has higher test scores), then I would opt for a z-test or t-test, pending sample size and the knowledge of the population variance. If you want to show that a relationship merely exists (for example, my A group and B group are different based on the independent variable but I don't care which group has higher scores), then the chi-squared or Fisher's exact test is appropriate, depending on sample size.\n",
    "</div>"
   ]
  },
  {
   "cell_type": "markdown",
   "metadata": {},
   "source": [
    "<div>Z-test vs T-test\n",
    "We have already done a few Z-tests before where we validated our null hypothesis.\n",
    "\n",
    "\n",
    "<li>A T-distribution is similar to a Z-distribution—it is centered at zero and has a basic bell shape, but its shorter and flatter around the center than the Z-distribution.\n",
    "\n",
    "<li>The T-distributions' standard deviation is usually proportionally larger than the Z, because of which you see the fatter tails on each side.\n",
    "\n",
    "<li>The t distribution is usually used to analyze the population when the sample is small.\n",
    "\n",
    "<li>The Z-test is used to compare the population mean against a sample or compare the population mean of two distributions with a sample size greater than 30. An example of a Z-test would be comparing the heights of men from different ethnicity groups.\n",
    "\n",
    "<li>The T-test is used to compare the population mean against a sample, or compare the population mean of two distributions with a sample size less than 30, and when you don't know the population's standard deviation.</div>"
   ]
  },
  {
   "cell_type": "markdown",
   "metadata": {},
   "source": [
    "###### Q3 In this situation, is it appropriate to use the t or z statistic? \n",
    "###### A3  Since with a t-test, it assumes that our observations are independently drawn from a Normal distribution with unknown mean and unknown variance, we are therefore inclined to say that it is more appropriate to use the z test in this case.  This is due to the large sample size of >30 i.e. 130 here and the fact that we have a known population mean and a known population variance."
   ]
  },
  {
   "cell_type": "code",
   "execution_count": 50,
   "metadata": {
    "collapsed": false
   },
   "outputs": [
    {
     "data": {
      "text/plain": [
       "0.47099842715740964"
      ]
     },
     "execution_count": 50,
     "metadata": {},
     "output_type": "execute_result"
    }
   ],
   "source": [
    "mean_alltemps = np.mean(df['Body temperature (degrees Fahrenheit)'])\n",
    "std_alltemps = np.std(df['Body temperature (degrees Fahrenheit)'])\n",
    "\n",
    "zscore = ( 98.6 - mean_alltemps ) / std_alltemps\n",
    "zscore"
   ]
  },
  {
   "cell_type": "code",
   "execution_count": 51,
   "metadata": {
    "collapsed": false
   },
   "outputs": [
    {
     "data": {
      "text/plain": [
       "0.31882092904676895"
      ]
     },
     "execution_count": 51,
     "metadata": {},
     "output_type": "execute_result"
    }
   ],
   "source": [
    "prob = 1 - stats.norm.cdf(zscore)\n",
    "prob"
   ]
  },
  {
   "cell_type": "markdown",
   "metadata": {},
   "source": [
    "###### A3 Since the p-value (0.31882092904676895 ~ 0.3) is greater than the significance level (α assumed to be 0.05 for (0.95)95% confidence interval), then the null hypothesis is consistent and cannot be rejected. In other words per the p-value of the zscore the human body temperature mean is 98.6 deg F.\n",
    "\n",
    "$$H_0: p_T = 98.6$$\n",
    "$$H_A: p_T \\ne 98.6$$\n",
    "\n",
    "This shows us that the t-statistic and z-statistic give us opposed results.  \n",
    "The 1 sample bootstrap test and the 1 sample t-test both give same results i.e. mean human body temperature is not 98.6.\n",
    "The z-statistic is that the mean human body temperature IS 98.6.\n",
    "\n",
    "Since for a large sample test we follow z-test we now say that the mean human body temperature IS 98.6."
   ]
  },
  {
   "cell_type": "markdown",
   "metadata": {},
   "source": [
    "###### Q4 Draw a small sample of size 10 from the data and repeat both frequentist tests.  \n",
    "###### Which one is the correct one to use? \n",
    "###### What do you notice? \n",
    "###### What does this tell you about the difference in application of the t and z statistic? "
   ]
  },
  {
   "cell_type": "code",
   "execution_count": 52,
   "metadata": {
    "collapsed": false
   },
   "outputs": [
    {
     "data": {
      "text/plain": [
       "array([ 99.2,  97.8,  98.7,  97.3,  97.6,  98.2,  98.8,  98.5,  98.6,  98.6])"
      ]
     },
     "execution_count": 52,
     "metadata": {},
     "output_type": "execute_result"
    }
   ],
   "source": [
    "replicate_temps = np.random.choice(df['Body temperature (degrees Fahrenheit)'].dropna(), 10)\n",
    "replicate_temps"
   ]
  },
  {
   "cell_type": "code",
   "execution_count": 53,
   "metadata": {
    "collapsed": false
   },
   "outputs": [
    {
     "data": {
      "text/plain": [
       "Ttest_1sampResult(statistic=-1.4361611830599308, pvalue=0.18478961444931291)"
      ]
     },
     "execution_count": 53,
     "metadata": {},
     "output_type": "execute_result"
    }
   ],
   "source": [
    "#Here we are using a 1 sample t-test since we are comparing the mean of this group of people to the known mean 98.6degF\n",
    "stats.ttest_1samp(replicate_temps, 98.6)"
   ]
  },
  {
   "cell_type": "code",
   "execution_count": 54,
   "metadata": {
    "collapsed": false
   },
   "outputs": [
    {
     "data": {
      "text/plain": [
       "0.47872039435331032"
      ]
     },
     "execution_count": 54,
     "metadata": {},
     "output_type": "execute_result"
    }
   ],
   "source": [
    "mean_tentemps = np.mean(replicate_temps)\n",
    "std_tentemps = np.std(replicate_temps)\n",
    "\n",
    "zscoreten = ( 98.6 - mean_tentemps ) / std_tentemps\n",
    "zscoreten"
   ]
  },
  {
   "cell_type": "code",
   "execution_count": 55,
   "metadata": {
    "collapsed": false
   },
   "outputs": [
    {
     "data": {
      "text/plain": [
       "0.31606877756662977"
      ]
     },
     "execution_count": 55,
     "metadata": {},
     "output_type": "execute_result"
    }
   ],
   "source": [
    "probten = 1 - stats.norm.cdf(zscoreten)\n",
    "probten"
   ]
  },
  {
   "cell_type": "markdown",
   "metadata": {
    "collapsed": true
   },
   "source": [
    "###### A4 The sample size of 10 i.e. < 30 indicates that the t-test be used."
   ]
  },
  {
   "cell_type": "markdown",
   "metadata": {},
   "source": [
    "###### A4. According to the 1 sample t-test--> With a p-value of (0.0042147718874694833 ~ 0.004) we can claim that the population mean for the Body Temperatures IS NOT 98.6.  This is because our null hypothesis is that the human body temperature mean is 98.6, but this is being rejected due to the very low p-value gotten from the 1 sample t-test.\n",
    "\n",
    "$$H_0: p_T = 98.6$$\n",
    "$$H_A: p_T \\ne 98.6$$"
   ]
  },
  {
   "cell_type": "markdown",
   "metadata": {},
   "source": [
    "###### A4 Since the p-value (0.10261337214252908 ~ 0.1) is greater than the significance level (α assumed to be 0.05 for (0.95)95% confidence interval), then the null hypothesis is consistent and cannot be rejected. In other words per the p-value of the zscore the human body temperature mean is 98.6 deg F\n",
    "$$H_0: p_T = 98.6$$\n",
    "$$H_A: p_T \\ne 98.6$$\n",
    "\n",
    "This shows us that the t-statistic and z-statistic give us opposed results.  \n",
    "The 1 sample t-test gives results i.e. mean human body temperature is not 98.6.\n",
    "The z-statistic is that the mean human body temperature IS 98.6.\n",
    "\n",
    "We notice here that the sample set in this case when small or large gave us the same results of the 2 tests(t-test, z-test). But since we are following different tests for different sample sizes our results are not the same for the 2 sample sizes (130 vs 10).\n",
    "\n",
    "\n",
    "Since for a small sample test we follow t-test we now say that the mean human body temperature IS NOT 98.6."
   ]
  },
  {
   "cell_type": "markdown",
   "metadata": {},
   "source": [
    "###### Q5 At what temperature should we consider someone's temperature to be \"abnormal\"? \n",
    "###### As in the previous example, try calculating everything using the boostrap approach, as well as the frequentist approach. \n",
    "###### Start by computing the margin of error and confidence interval. When calculating the confidence interval, keep in mind that you should use the appropriate formula for one draw, and not N draws. "
   ]
  },
  {
   "cell_type": "code",
   "execution_count": 113,
   "metadata": {
    "collapsed": false
   },
   "outputs": [
    {
     "data": {
      "image/png": "[encoded data removed]",
      "text/plain": [
       "<matplotlib.figure.Figure at 0x19ccf7d0470>"
      ]
     },
     "metadata": {},
     "output_type": "display_data"
    }
   ],
   "source": [
    "import numpy as np\n",
    "\n",
    "for _ in range(150):\n",
    "    # Generate bootstrap sample: bs_sample\n",
    "    bs_sample = np.random.choice(df['Body temperature (degrees Fahrenheit)'], size=len(df['Body temperature (degrees Fahrenheit)']))\n",
    "\n",
    "    # Compute and plot ECDF from bootstrap sample\n",
    "    x, y = ecdf(bs_sample)\n",
    "    _ = plt.plot(x, y, marker='.', linestyle='none',\n",
    "                 color='gray', alpha=0.1)\n",
    "\n",
    "\n",
    "x_all,y_all = ecdf(df['Body temperature (degrees Fahrenheit)'].dropna())\n",
    "\n",
    "_ = plt.plot(x_all, y_all,'.', color='blue')\n",
    "\n",
    "\n",
    "plt.margins(0.02)\n",
    "_ = plt.xlabel('Body temperature (degrees Fahrenheit)')\n",
    "_ = plt.ylabel('ECDF')\n",
    "\n",
    "plt.legend(('all', 'bootstrap'), loc='lower right')\n",
    "plt.show()"
   ]
  },
  {
   "cell_type": "code",
   "execution_count": 121,
   "metadata": {
    "collapsed": false
   },
   "outputs": [
    {
     "name": "stdout",
     "output_type": "stream",
     "text": [
      "Std Error of the Mean =  0.0627456863227\n",
      "Std Dev of the Bootstrap Replicates using Hacker Statistics =  0.062975902052\n"
     ]
    },
    {
     "data": {
      "image/png": "[encoded data removed]",
      "text/plain": [
       "<matplotlib.figure.Figure at 0x19cd0d45d30>"
      ]
     },
     "metadata": {},
     "output_type": "display_data"
    }
   ],
   "source": [
    "def bootstrap_replicate_1d(data, func):\n",
    "    return func(np.random.choice(data, size=len(data)))\n",
    "\n",
    "def draw_bs_reps(data, func, size=1):\n",
    "    \"\"\"Draw bootstrap replicates.\"\"\"\n",
    "\n",
    "    # Initialize array of replicates: bs_replicates\n",
    "    bs_replicates = np.empty(size)\n",
    "\n",
    "    # Generate replicates\n",
    "    for i in range(size):\n",
    "        bs_replicates[i] = bootstrap_replicate_1d(data, func)\n",
    "\n",
    "    return bs_replicates\n",
    "\n",
    "# Take 10,000 bootstrap replicates of the mean: bs_replicates\n",
    "bs_replicates = draw_bs_reps(df['Body temperature (degrees Fahrenheit)'].dropna(), np.mean, size=10000)\n",
    "\n",
    "# Compute and print SEM\n",
    "sem = np.std(df['Body temperature (degrees Fahrenheit)'].dropna()) / np.sqrt(len(df['Body temperature (degrees Fahrenheit)'].dropna()))\n",
    "print('Std Error of the Mean = ', sem)\n",
    "\n",
    "# Compute and print standard deviation of bootstrap replicates\n",
    "bs_std = np.std(bs_replicates)\n",
    "print('Std Dev of the Bootstrap Replicates using Hacker Statistics = ', bs_std)\n",
    "\n",
    "# Make a histogram of the results\n",
    "_ = plt.hist(bs_replicates, bins=50, normed=True)\n",
    "_ = plt.xlabel('Body temperature (degrees Fahrenheit)')\n",
    "_ = plt.ylabel('PDF')\n",
    "\n",
    "# Show the plot\n",
    "plt.show()\n"
   ]
  },
  {
   "cell_type": "markdown",
   "metadata": {},
   "source": [
    "The above distribution is not normal since it has a longer left-tail as seen in the Histogram."
   ]
  },
  {
   "cell_type": "markdown",
   "metadata": {},
   "source": [
    "A confidence interval gives bounds on the range of parameter values you might expect to get if we repeated our measurements. For named distributions, you can compute them analytically or look them up, but one of the many beautiful properties of the bootstrap method is that you can just take percentiles of your bootstrap replicates to get your confidence interval. Conveniently, you can use the np.percentile() function."
   ]
  },
  {
   "cell_type": "code",
   "execution_count": 127,
   "metadata": {
    "collapsed": false
   },
   "outputs": [
    {
     "name": "stdout",
     "output_type": "stream",
     "text": [
      "95% Confidence Interval for All Body Temp. = [ 98.14263566  98.3875969 ] degrees Fahrenheit\n"
     ]
    }
   ],
   "source": [
    "print('95% Confidence Interval for All Body Temp. =',np.percentile(bs_replicates,[2.5,97.5]),'degrees Fahrenheit')"
   ]
  },
  {
   "cell_type": "markdown",
   "metadata": {},
   "source": [
    "The above Confidence Interval tells us that if the temperatures are below 98.14263566 OR above 98.3875969, they should be considered 'abnormal'.\n",
    "<b>ABNORMAL: Mathematically if t < 98.14263566 degrees Fahrenheit OR t > 98.3875969 degrees Fahrenheit</b>"
   ]
  },
  {
   "cell_type": "markdown",
   "metadata": {},
   "source": [
    "###### Q6 Is there a significant difference between males and females in normal temperature? \n",
    "###### What testing approach did you use and why? \n",
    "###### Write a story with your conclusion in the context of the original problem. "
   ]
  },
  {
   "cell_type": "code",
   "execution_count": 84,
   "metadata": {
    "collapsed": false
   },
   "outputs": [
    {
     "name": "stdout",
     "output_type": "stream",
     "text": [
      "Means of Body Temperatures:\n",
      "Male Mean Temp = 98.13281250000003\n",
      "Male 98.13281250000003\n",
      "Female Mean Temp = 98.39384615384616\n",
      "Female 98.39384615384616\n"
     ]
    }
   ],
   "source": [
    "groupby_gender = df.groupby('Gender (1 = male, 2 = female)')\n",
    "\n",
    "print('Means of Body Temperatures:')\n",
    "for gender, value in groupby_gender['Body temperature (degrees Fahrenheit)']:\n",
    "    if (gender ==1):\n",
    "        male_mean_temp = value.mean()\n",
    "        print('Male Mean Temp =', male_mean_temp)\n",
    "        print('Male', value.mean())\n",
    "    else:\n",
    "        female_mean_temp = value.mean()\n",
    "        print('Female Mean Temp =', female_mean_temp)\n",
    "        print('Female', value.mean())"
   ]
  },
  {
   "cell_type": "code",
   "execution_count": 57,
   "metadata": {
    "collapsed": false
   },
   "outputs": [
    {
     "name": "stderr",
     "output_type": "stream",
     "text": [
      "C:\\Program Files\\Anaconda33\\lib\\site-packages\\pandas\\tools\\plotting.py:3082: FutureWarning: \n",
      "The default value for 'return_type' will change to 'axes' in a future release.\n",
      " To use the future behavior now, set return_type='axes'.\n",
      " To keep the previous behavior and silence this warning, set return_type='dict'.\n",
      "  rot=rot, grid=grid, **kwds)\n"
     ]
    },
    {
     "data": {
      "image/png": "[encoded data removed]",
      "text/plain": [
       "<matplotlib.figure.Figure at 0x19cbeb8bcc0>"
      ]
     },
     "metadata": {},
     "output_type": "display_data"
    }
   ],
   "source": [
    "import matplotlib.pyplot as plt\n",
    "groupby_gender.boxplot(column=['Body temperature (degrees Fahrenheit)'])\n",
    "\n",
    "plt.show()"
   ]
  },
  {
   "cell_type": "markdown",
   "metadata": {},
   "source": [
    "###### A two-sample bootstrap hypothesis test for difference of means"
   ]
  },
  {
   "cell_type": "code",
   "execution_count": 86,
   "metadata": {
    "collapsed": false
   },
   "outputs": [
    {
     "data": {
      "text/plain": [
       "0.26103365384612687"
      ]
     },
     "execution_count": 86,
     "metadata": {},
     "output_type": "execute_result"
    }
   ],
   "source": [
    "# def diff_of_means(data_1, data_2):\n",
    "#     \"\"\"Difference in means of two arrays.\"\"\"\n",
    "\n",
    "#     # The difference of means of data_1, data_2: diff\n",
    "#     diff = np.mean(data_1) - np.mean(data_2)\n",
    "\n",
    "#     return diff\n",
    "\n",
    "# Compute difference of mean impact force from experiment: empirical_diff_means\n",
    "empirical_diff_means = female_mean_temp - male_mean_temp\n",
    "empirical_diff_means"
   ]
  },
  {
   "cell_type": "code",
   "execution_count": 103,
   "metadata": {
    "collapsed": false
   },
   "outputs": [
    {
     "name": "stdout",
     "output_type": "stream",
     "text": [
      "98.26434108527133\n",
      "[  96.7   96.7   96.7 ...,  100.8  100.8  100.8]\n",
      "[  96.7   96.7   96.7 ...,  100.8  100.8  100.8]\n",
      "[ 0.00466905 -0.00405486 -0.00532499 ...,  0.00602862  0.00118664\n",
      " -0.00017889]\n",
      "10000\n",
      "[False False False ..., False False False]\n",
      "p-value = 0.0\n"
     ]
    }
   ],
   "source": [
    "# Compute mean of all temps: mean_temp\n",
    "mean_temp = np.mean(df['Body temperature (degrees Fahrenheit)'])\n",
    "print(mean_temp)\n",
    "# Generate shifted arrays\n",
    "temp_male_shifted = male_temps - np.mean(male_temps) + mean_temp\n",
    "print(temp_male_shifted)\n",
    "temp_female_shifted = female_temps - np.mean(female_temps) + mean_temp\n",
    "print(temp_female_shifted)\n",
    "# Compute 10,000 bootstrap replicates from shifted arrays\n",
    "bs_replicates_male = draw_bs_reps(temp_male_shifted, np.mean, size=10000)\n",
    "bs_replicates_female = draw_bs_reps(temp_female_shifted, np.mean, size=10000)\n",
    "\n",
    "# Get replicates of difference of means: bs_replicates\n",
    "bs_replicates = bs_replicates_male - bs_replicates_female\n",
    "print(bs_replicates)\n",
    "print(len(bs_replicates))\n",
    "print(bs_replicates >= empirical_diff_means)\n",
    "# Compute and print p-value: p\n",
    "p = np.sum(bs_replicates >= empirical_diff_means) / len(bs_replicates)\n",
    "print('p-value =', p)"
   ]
  },
  {
   "cell_type": "markdown",
   "metadata": {},
   "source": [
    "###### A6 There a significant difference between males and females in normal temperature.\n",
    "\n",
    "$$H_0: T_M = T_W$$\n",
    "$$H_A: T_M \\ne T_W$$\n",
    "p value is 0 (low i.e. < 0.05) indicating that the null hypothesis that states that the 2 sets are equal is refuted and there is a difference in the normal termperatures of men vs women.  The testing approach I used is the 2 sample bootstrap approach to check the difference in means since that gave me enough samples i.e. 10000 to test by bootstrapping both sample sets of male and female body temperatures."
   ]
  }
 ],
 "metadata": {
  "anaconda-cloud": {},
  "kernelspec": {
   "display_name": "Python [default]",
   "language": "python",
   "name": "python3"
  },
  "language_info": {
   "codemirror_mode": {
    "name": "ipython",
    "version": 3
   },
   "file_extension": ".py",
   "mimetype": "text/x-python",
   "name": "python",
   "nbconvert_exporter": "python",
   "pygments_lexer": "ipython3",
   "version": "3.5.4"
  }
 },
 "nbformat": 4,
 "nbformat_minor": 1
}
